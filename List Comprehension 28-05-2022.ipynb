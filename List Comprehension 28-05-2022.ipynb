{
 "cells": [
  {
   "cell_type": "markdown",
   "metadata": {},
   "source": [
    "## List comprehensions \n",
    "'with the help of comprehensions we can write single line of code for list "
   ]
  },
  {
   "cell_type": "code",
   "execution_count": 1,
   "metadata": {},
   "outputs": [
    {
     "name": "stdout",
     "output_type": "stream",
     "text": [
      "[1, 4, 9, 16, 25, 36, 49, 64, 81, 100, 121, 144, 169, 196, 225, 256, 289, 324, 361, 400, 441, 484, 529, 576, 625, 676, 729, 784, 841, 900, 961, 1024, 1089, 1156, 1225, 1296, 1369, 1444, 1521, 1600, 1681, 1764, 1849, 1936, 2025, 2116, 2209, 2304, 2401, 2500, 2601, 2704, 2809, 2916, 3025, 3136, 3249, 3364, 3481, 3600, 3721, 3844, 3969, 4096, 4225, 4356, 4489, 4624, 4761, 4900, 5041, 5184, 5329, 5476, 5625, 5776, 5929, 6084, 6241, 6400, 6561, 6724, 6889, 7056, 7225, 7396, 7569, 7744, 7921, 8100, 8281, 8464, 8649, 8836, 9025, 9216, 9409, 9604, 9801]\n"
     ]
    }
   ],
   "source": [
    "square=[]\n",
    "for i in range (1,100):\n",
    " square.append(i**2)\n",
    "print(square)"
   ]
  },
  {
   "cell_type": "code",
   "execution_count": 20,
   "metadata": {},
   "outputs": [
    {
     "name": "stdout",
     "output_type": "stream",
     "text": [
      "[1, 4, 9, 16, 25, 36, 49, 64, 81, 100, 121, 144, 169, 196, 225, 256, 289, 324, 361, 400, 441, 484, 529, 576, 625, 676, 729, 784, 841, 900, 961, 1024, 1089, 1156, 1225, 1296, 1369, 1444, 1521, 1600, 1681, 1764, 1849, 1936, 2025, 2116, 2209, 2304, 2401, 2500, 2601, 2704, 2809, 2916, 3025, 3136, 3249, 3364, 3481, 3600, 3721, 3844, 3969, 4096, 4225, 4356, 4489, 4624, 4761, 4900, 5041, 5184, 5329, 5476, 5625, 5776, 5929, 6084, 6241, 6400, 6561, 6724, 6889, 7056, 7225, 7396, 7569, 7744, 7921, 8100, 8281, 8464, 8649, 8836, 9025, 9216, 9409, 9604, 9801, 10000]\n"
     ]
    }
   ],
   "source": [
    "#List comprihansion\n",
    "\n",
    "squ2=[i**2 for i in range(1,101)]\n",
    "print(squ2)\n"
   ]
  },
  {
   "cell_type": "code",
   "execution_count": 21,
   "metadata": {},
   "outputs": [
    {
     "data": {
      "text/plain": [
       "['Don', 'Rocky', 'RHTDM', 'Rathstaan', 'sherlock']"
      ]
     },
     "execution_count": 21,
     "metadata": {},
     "output_type": "execute_result"
    }
   ],
   "source": [
    "movies = [\"Don\",\"Rocky\",\"RHTDM\",\"Rathstaan\",\"sherlock\"]\n",
    "movies"
   ]
  },
  {
   "cell_type": "code",
   "execution_count": 22,
   "metadata": {},
   "outputs": [
    {
     "name": "stdout",
     "output_type": "stream",
     "text": [
      "['Don', 'Rathstaan']\n"
     ]
    }
   ],
   "source": [
    "rmovie=[]\n",
    "for title in movies:\n",
    "    if title.endswith('n'):\n",
    "        rmovie.append(title)\n",
    "print(rmovie)\n"
   ]
  },
  {
   "cell_type": "code",
   "execution_count": null,
   "metadata": {},
   "outputs": [],
   "source": [
    "Rmovies=[]\n",
    "for title in movies:\n",
    "    if title.startswith(\"R\"):\n",
    "        Rmovies.append(title)\n",
    "print(Rmovies)"
   ]
  },
  {
   "cell_type": "code",
   "execution_count": 23,
   "metadata": {},
   "outputs": [
    {
     "data": {
      "text/plain": [
       "['Don', 'Rathstaan']"
      ]
     },
     "execution_count": 23,
     "metadata": {},
     "output_type": "execute_result"
    }
   ],
   "source": [
    "rrm = [title for title in movies if title.endswith('n')]\n",
    "rrm"
   ]
  },
  {
   "cell_type": "code",
   "execution_count": 24,
   "metadata": {},
   "outputs": [
    {
     "data": {
      "text/plain": [
       "['Mashetty', 'Kamshetty', 'Narshetty', 'Karabshetti', 'shenkshetti']"
      ]
     },
     "execution_count": 24,
     "metadata": {},
     "output_type": "execute_result"
    }
   ],
   "source": [
    "Etty_Names = [\"Mashetty\",\"Kamshetty\",\"Narshetty\",\"Karabshetti\",\"shenkshetti\"]\n",
    "Etty_Names"
   ]
  },
  {
   "cell_type": "code",
   "execution_count": 25,
   "metadata": {},
   "outputs": [
    {
     "name": "stdout",
     "output_type": "stream",
     "text": [
      "['Mashetty', 'Kamshetty', 'Narshetty']\n"
     ]
    }
   ],
   "source": [
    "ettyN=[]\n",
    "for title in Etty_Names: \n",
    "    if title.endswith(\"etty\"):\n",
    "        ettyN.append(title)\n",
    "print(ettyN)"
   ]
  },
  {
   "cell_type": "code",
   "execution_count": 26,
   "metadata": {},
   "outputs": [
    {
     "name": "stdout",
     "output_type": "stream",
     "text": [
      "['Mashetty', 'Kamshetty', 'Narshetty', 'shenkshetti']\n"
     ]
    }
   ],
   "source": [
    "tt = [title for title in Etty_Names if title.startswith(\"she\") or title.endswith(\"etty\")]\n",
    "print(tt)"
   ]
  },
  {
   "cell_type": "code",
   "execution_count": 27,
   "metadata": {},
   "outputs": [
    {
     "name": "stdout",
     "output_type": "stream",
     "text": [
      "['Mashetty', 'Kamshetty', 'Narshetty', 'shenkshetti']\n"
     ]
    }
   ],
   "source": [
    "tt = []\n",
    "for title in Etty_Names:\n",
    "        if title.endswith(\"etty\") or title.startswith(\"she\"):\n",
    "            tt.append(title)\n",
    "print(tt)"
   ]
  },
  {
   "cell_type": "markdown",
   "metadata": {},
   "source": [
    "# Scalar Multiplication"
   ]
  },
  {
   "cell_type": "code",
   "execution_count": 28,
   "metadata": {},
   "outputs": [],
   "source": [
    "V = [1,2,4,-16]"
   ]
  },
  {
   "cell_type": "code",
   "execution_count": 29,
   "metadata": {},
   "outputs": [
    {
     "data": {
      "text/plain": [
       "[1, 2, 4, -16, 1, 2, 4, -16, 1, 2, 4, -16, 1, 2, 4, -16]"
      ]
     },
     "execution_count": 29,
     "metadata": {},
     "output_type": "execute_result"
    }
   ],
   "source": [
    "4*V"
   ]
  },
  {
   "cell_type": "markdown",
   "metadata": {},
   "source": [
    "'python do not understand if directly mulitply like above example it simply concatinate it\n",
    "'even if below example same thing happen"
   ]
  },
  {
   "cell_type": "code",
   "execution_count": 30,
   "metadata": {},
   "outputs": [
    {
     "data": {
      "text/plain": [
       "[1, 2, 3, 7, 8]"
      ]
     },
     "execution_count": 30,
     "metadata": {},
     "output_type": "execute_result"
    }
   ],
   "source": [
    "[1,2,3]+[7,8]"
   ]
  },
  {
   "cell_type": "code",
   "execution_count": 31,
   "metadata": {},
   "outputs": [
    {
     "name": "stdout",
     "output_type": "stream",
     "text": [
      "[4, 8, 16, -64]\n"
     ]
    }
   ],
   "source": [
    "w=[]\n",
    "for x in V:\n",
    "    w.append(x*4)\n",
    "print(w)"
   ]
  },
  {
   "cell_type": "code",
   "execution_count": 32,
   "metadata": {},
   "outputs": [
    {
     "name": "stdout",
     "output_type": "stream",
     "text": [
      "[4, 8, 16, -64]\n"
     ]
    }
   ],
   "source": [
    "w=[4*x for x in V]\n",
    "print(w)"
   ]
  },
  {
   "cell_type": "markdown",
   "metadata": {},
   "source": [
    "# Cartesian Product\n",
    "if a and b are two sets,\n",
    "then Cartesian produt,\n",
    "is sets of pairs (a,b)\n",
    "where 'a' is A and 'b' is B .\n",
    "\n",
    "ex: AxB = {(a,b) | a is A and b is B}"
   ]
  },
  {
   "cell_type": "code",
   "execution_count": 33,
   "metadata": {},
   "outputs": [
    {
     "name": "stdout",
     "output_type": "stream",
     "text": [
      "[(1, 2), (1, 4), (1, 6), (1, 8), (3, 2), (3, 4), (3, 6), (3, 8), (5, 2), (5, 4), (5, 6), (5, 8), (7, 2), (7, 4), (7, 6), (7, 8)]\n"
     ]
    }
   ],
   "source": [
    "A = [1,3,5,7]\n",
    "B = [2,4,6,8]\n",
    "cp = [(a,b) for a in A for b in B]\n",
    "print(cp)"
   ]
  },
  {
   "cell_type": "code",
   "execution_count": 34,
   "metadata": {},
   "outputs": [
    {
     "data": {
      "text/plain": [
       "[('Don', 1991),\n",
       " ('Rocky', 2000),\n",
       " ('RHTDM', 2004),\n",
       " ('Rathstaan', 2007),\n",
       " ('sherlock', 2010)]"
      ]
     },
     "execution_count": 34,
     "metadata": {},
     "output_type": "execute_result"
    }
   ],
   "source": [
    "movies = [(\"Don\",1991),(\"Rocky\",2000),(\"RHTDM\",2004),(\"Rathstaan\",2007),(\"sherlock\",2010)]\n",
    "movies"
   ]
  },
  {
   "cell_type": "code",
   "execution_count": 35,
   "metadata": {},
   "outputs": [
    {
     "name": "stdout",
     "output_type": "stream",
     "text": [
      "['Rocky', 'RHTDM', 'Rathstaan', 'sherlock']\n"
     ]
    }
   ],
   "source": [
    "Rmovies = [title for (title,year) in movies if year >= 2000]\n",
    "print(Rmovies)\n"
   ]
  },
  {
   "cell_type": "code",
   "execution_count": 36,
   "metadata": {},
   "outputs": [
    {
     "name": "stdout",
     "output_type": "stream",
     "text": [
      "['Rocky']\n"
     ]
    }
   ],
   "source": [
    "Rmm = []\n",
    "for title, year in movies:\n",
    "    if title.startswith(\"Ro\") and year >=2000:     \n",
    "        Rmm.append(title)\n",
    "print(Rmm)"
   ]
  },
  {
   "cell_type": "markdown",
   "metadata": {},
   "source": [
    "#### in the above example rocky movie meets only 1 criteria that is \"RO\" if we write year>=2000 then it will print Rocky otherwise empty will come "
   ]
  },
  {
   "cell_type": "code",
   "execution_count": 2,
   "metadata": {},
   "outputs": [
    {
     "name": "stdout",
     "output_type": "stream",
     "text": [
      "[398, 2626]\n"
     ]
    }
   ],
   "source": [
    "AlphaN=[\"398\",\"2626\",\"Aman\",\"Mashetty\"]\n",
    "dd= [int(s) for s in AlphaN if s.isdigit()]\n",
    "print(dd)"
   ]
  },
  {
   "cell_type": "code",
   "execution_count": 5,
   "metadata": {},
   "outputs": [
    {
     "name": "stdout",
     "output_type": "stream",
     "text": [
      "[398, 2626]\n"
     ]
    }
   ],
   "source": [
    "AlphaN=[\"398\",\"2626\",\"Aman\",\"Mashetty\"]\n",
    "ddd=[]\n",
    "for s in AlphaN:\n",
    "    if s.isdigit():\n",
    "        ddd.append(int(s))\n",
    "print(ddd)"
   ]
  },
  {
   "cell_type": "markdown",
   "metadata": {},
   "source": [
    "# Let add a mobile color and models"
   ]
  },
  {
   "cell_type": "code",
   "execution_count": 44,
   "metadata": {},
   "outputs": [],
   "source": [
    "color = [\"Red\",\"Blue\",\"Orange\",\"Green\"]\n",
    "model = [\"12\",\"12pro\",\"12proMax\"]"
   ]
  },
  {
   "cell_type": "code",
   "execution_count": 45,
   "metadata": {},
   "outputs": [
    {
     "name": "stdout",
     "output_type": "stream",
     "text": [
      "[('Red', '12'), ('Red', '12pro'), ('Red', '12proMax'), ('Blue', '12'), ('Blue', '12pro'), ('Blue', '12proMax'), ('Orange', '12'), ('Orange', '12pro'), ('Orange', '12proMax'), ('Green', '12'), ('Green', '12pro'), ('Green', '12proMax')]\n"
     ]
    }
   ],
   "source": [
    "cm = []\n",
    "for colors in color:\n",
    "    for models in model:\n",
    "         cm.append((colors,models))\n",
    "print(cm)"
   ]
  },
  {
   "cell_type": "code",
   "execution_count": 46,
   "metadata": {},
   "outputs": [
    {
     "name": "stdout",
     "output_type": "stream",
     "text": [
      "[('Red', '12'), ('Red', '12pro'), ('Red', '12proMax'), ('Blue', '12'), ('Blue', '12pro'), ('Blue', '12proMax'), ('Orange', '12'), ('Orange', '12pro'), ('Orange', '12proMax'), ('Green', '12'), ('Green', '12pro'), ('Green', '12proMax')]\n"
     ]
    }
   ],
   "source": [
    "cm = [(colors,models) for colors in color for models in model]\n",
    "print(cm)"
   ]
  },
  {
   "cell_type": "code",
   "execution_count": 47,
   "metadata": {},
   "outputs": [
    {
     "name": "stdout",
     "output_type": "stream",
     "text": [
      "['Red', 'Blue', 'Orange', 'Green']\n"
     ]
    }
   ],
   "source": [
    "print(color)"
   ]
  },
  {
   "cell_type": "code",
   "execution_count": 48,
   "metadata": {},
   "outputs": [
    {
     "data": {
      "text/plain": [
       "['Red', 'Blue', 'Orange', 'Green', '12', '12pro', '12proMax']"
      ]
     },
     "execution_count": 48,
     "metadata": {},
     "output_type": "execute_result"
    }
   ],
   "source": [
    "# concatinate is so simple with this trick\n",
    "color + model"
   ]
  },
  {
   "cell_type": "code",
   "execution_count": null,
   "metadata": {},
   "outputs": [],
   "source": [
    "# want to change the color or add a color in list below is the trick\n",
    "if 'Blue' in color:\n",
    "    print(\"purple\") #insted\n",
    "    "
   ]
  },
  {
   "cell_type": "code",
   "execution_count": null,
   "metadata": {},
   "outputs": [],
   "source": [
    "color = ['Blue',\n",
    " 'Green',\n",
    " 'Orange',\n",
    " 'Red',\n",
    " 'yellow']\n",
    "color"
   ]
  },
  {
   "cell_type": "code",
   "execution_count": null,
   "metadata": {},
   "outputs": [],
   "source": [
    "# to Remove an color in the list\n",
    "color.remove(\"yellow\")\n",
    "color"
   ]
  },
  {
   "cell_type": "code",
   "execution_count": null,
   "metadata": {},
   "outputs": [],
   "source": [
    "#To add a value(color) in list just append\n",
    "# but below code is not meet the criteria\n",
    "color.append([\"Grey\",\"Purple\",\"pink\"])\n",
    "color"
   ]
  },
  {
   "cell_type": "code",
   "execution_count": null,
   "metadata": {},
   "outputs": [],
   "source": [
    "#To add a value(color) in list just append\n",
    "#problem with append it only takes one value at a time\n",
    "color + [\"grey\",\"black\",\"Pink\"]"
   ]
  },
  {
   "cell_type": "code",
   "execution_count": null,
   "metadata": {},
   "outputs": [],
   "source": [
    "color = color\n",
    "print(color)"
   ]
  },
  {
   "cell_type": "code",
   "execution_count": null,
   "metadata": {},
   "outputs": [],
   "source": [
    "for items in color:\n",
    "    print(items)"
   ]
  },
  {
   "cell_type": "code",
   "execution_count": null,
   "metadata": {},
   "outputs": [],
   "source": [
    "#to copy of a list \n",
    "colorsss = color.copy()\n",
    "colorsss"
   ]
  },
  {
   "cell_type": "markdown",
   "metadata": {},
   "source": [
    "# itertools.combinations: A Better Way to\n",
    "# Iterate Through a Pair of Values in a Python\n",
    "# List"
   ]
  },
  {
   "cell_type": "markdown",
   "metadata": {},
   "source": [
    "## If you want to iterate through a pair of values in a list and the\n",
    "## order does not matter ((a,b) is the same as (b, a)), a naive\n",
    "## approach is to use two for-loops."
   ]
  },
  {
   "cell_type": "code",
   "execution_count": 49,
   "metadata": {},
   "outputs": [
    {
     "name": "stdout",
     "output_type": "stream",
     "text": [
      "(1, 2)\n",
      "(1, 3)\n",
      "(2, 3)\n"
     ]
    }
   ],
   "source": [
    "num_list=[1,2,3]\n",
    "\n",
    "for i in num_list:\n",
    "    for j in num_list:\n",
    "        if i < j:\n",
    "            print((i,j))"
   ]
  },
  {
   "cell_type": "markdown",
   "metadata": {},
   "source": [
    "## itertools.product: Nested For-Loops in a\n",
    "## Generator Expression\n",
    "\n",
    "itertools.product is more efficient than nested loop because\n",
    "product(A, B) returns the same as ((x,y) for x in A for y\n",
    "in B)."
   ]
  },
  {
   "cell_type": "code",
   "execution_count": null,
   "metadata": {},
   "outputs": [],
   "source": [
    "from itertools import product\n",
    "params = {\n",
    "\"learning_rate\": [1e-1, 1e-2, 1e-3],\n",
    "\"batch_size\": [16, 32, 64],\n",
    "}"
   ]
  },
  {
   "cell_type": "code",
   "execution_count": null,
   "metadata": {},
   "outputs": [],
   "source": [
    "for vals in product(*params.values()):\n",
    "combination = dict(zip(params.keys(), vals))\n",
    "print(combination)"
   ]
  },
  {
   "cell_type": "markdown",
   "metadata": {},
   "source": [
    "# want to sort with last name"
   ]
  },
  {
   "cell_type": "code",
   "execution_count": 1,
   "metadata": {},
   "outputs": [],
   "source": [
    "Scifi_authors = [\"Aman Mashetty\",\"Vinod jante\",\"Ram Naresh\",\"Om swamy\"]"
   ]
  },
  {
   "cell_type": "code",
   "execution_count": 2,
   "metadata": {},
   "outputs": [],
   "source": [
    "Scifi_authors.sort(key = lambda name:name.split(\" \")[-1].lower())"
   ]
  },
  {
   "cell_type": "code",
   "execution_count": 20,
   "metadata": {},
   "outputs": [],
   "source": [
    "Scifi_authors = [\"aman mashetty\",\"vinod jante\",\"ram naresh\",\"om swamy\"]\n",
    "Scifi_authors.sort(key = lambda x:x.split(\" \")[0].upper())"
   ]
  },
  {
   "cell_type": "code",
   "execution_count": 21,
   "metadata": {},
   "outputs": [
    {
     "data": {
      "text/plain": [
       "['aman mashetty', 'om swamy', 'ram naresh', 'vinod jante']"
      ]
     },
     "execution_count": 21,
     "metadata": {},
     "output_type": "execute_result"
    }
   ],
   "source": [
    "Scifi_authors"
   ]
  },
  {
   "cell_type": "code",
   "execution_count": 5,
   "metadata": {},
   "outputs": [
    {
     "data": {
      "text/plain": [
       "['Pradeep Biradar', 'jeetu churasiya', 'sachin tichkule']"
      ]
     },
     "execution_count": 5,
     "metadata": {},
     "output_type": "execute_result"
    }
   ],
   "source": [
    "Fl_names=[\"Pradeep Biradar\",\"jeetu churasiya\", \"sachin tichkule\"]\n",
    "Fl_names"
   ]
  },
  {
   "cell_type": "code",
   "execution_count": 57,
   "metadata": {},
   "outputs": [
    {
     "data": {
      "text/plain": [
       "['Pradeep Biradar', 'jeetu churasiya', 'sachin tichkule']"
      ]
     },
     "execution_count": 57,
     "metadata": {},
     "output_type": "execute_result"
    }
   ],
   "source": [
    "Fl_names.sort(key=lambda name:name.split (\" \")[-1].lower())\n",
    "Fl_names"
   ]
  },
  {
   "cell_type": "code",
   "execution_count": 9,
   "metadata": {},
   "outputs": [
    {
     "data": {
      "text/plain": [
       "['Pradeep Biradar',\n",
       " 'jeetu churasiya',\n",
       " 'sachin tichkule',\n",
       " 'Aman Mashetty',\n",
       " 'Vinod jante',\n",
       " 'Ram Naresh',\n",
       " 'Om swamy']"
      ]
     },
     "execution_count": 9,
     "metadata": {},
     "output_type": "execute_result"
    }
   ],
   "source": [
    "Fname =  Fl_names + Scifi_authors\n",
    "Fname"
   ]
  },
  {
   "cell_type": "code",
   "execution_count": 59,
   "metadata": {},
   "outputs": [
    {
     "data": {
      "text/plain": [
       "['Pradeep Biradar',\n",
       " 'jeetu churasiya',\n",
       " 'Vinod jante',\n",
       " 'Aman Mashetty',\n",
       " 'Ram Naresh',\n",
       " 'Om swamy',\n",
       " 'sachin tichkule']"
      ]
     },
     "execution_count": 59,
     "metadata": {},
     "output_type": "execute_result"
    }
   ],
   "source": [
    "Fname.sort(key=lambda name:name.split(\" \")[-1].lower())\n",
    "Fname"
   ]
  },
  {
   "cell_type": "markdown",
   "metadata": {},
   "source": [
    "# Dhamaal movie comedy 😂"
   ]
  },
  {
   "cell_type": "code",
   "execution_count": 38,
   "metadata": {},
   "outputs": [],
   "source": [
    "Fname = ['Venu Gopal Aiyyar','Muttu swamy','Rajshekhera','yekka permpiraa','Chinna Swamy','Venu Gopal Aiyyar']\n",
    "Lname = ['Chinna Swamy','Venu Gopal Aiyyar','Muttu swamy','perambadur','Muttu swamy','shivavenkata']"
   ]
  },
  {
   "cell_type": "code",
   "execution_count": 39,
   "metadata": {},
   "outputs": [
    {
     "data": {
      "text/plain": [
       "[('Venu Gopal Aiyyar', 'Chinna Swamy'),\n",
       " ('Muttu swamy', 'Venu Gopal Aiyyar'),\n",
       " ('Rajshekhera', 'Muttu swamy'),\n",
       " ('yekka permpiraa', 'perambadur'),\n",
       " ('Chinna Swamy', 'Muttu swamy'),\n",
       " ('Venu Gopal Aiyyar', 'shivavenkata')]"
      ]
     },
     "execution_count": 39,
     "metadata": {},
     "output_type": "execute_result"
    }
   ],
   "source": [
    "list(zip(Fname,Lname))"
   ]
  },
  {
   "cell_type": "code",
   "execution_count": null,
   "metadata": {},
   "outputs": [],
   "source": []
  },
  {
   "cell_type": "code",
   "execution_count": 60,
   "metadata": {},
   "outputs": [
    {
     "data": {
      "text/plain": [
       "[('Pradeep Biradar', 'Vinod jante'),\n",
       " ('jeetu churasiya', 'Aman Mashetty'),\n",
       " ('Vinod jante', 'Ram Naresh'),\n",
       " ('Aman Mashetty', 'Om swamy')]"
      ]
     },
     "execution_count": 60,
     "metadata": {},
     "output_type": "execute_result"
    }
   ],
   "source": [
    "list(zip(Fname,Scifi_authors))"
   ]
  },
  {
   "cell_type": "code",
   "execution_count": 40,
   "metadata": {},
   "outputs": [
    {
     "name": "stdout",
     "output_type": "stream",
     "text": [
      "{'Venu Gopal Aiyyar': 'Chinna Swamy'}\n",
      "{'Venu Gopal Aiyyar': 'Chinna Swamy', 'Muttu swamy': 'Venu Gopal Aiyyar'}\n",
      "{'Venu Gopal Aiyyar': 'Chinna Swamy', 'Muttu swamy': 'Venu Gopal Aiyyar', 'Rajshekhera': 'Muttu swamy'}\n",
      "{'Venu Gopal Aiyyar': 'Chinna Swamy', 'Muttu swamy': 'Venu Gopal Aiyyar', 'Rajshekhera': 'Muttu swamy', 'yekka permpiraa': 'perambadur'}\n",
      "{'Venu Gopal Aiyyar': 'Chinna Swamy', 'Muttu swamy': 'Venu Gopal Aiyyar', 'Rajshekhera': 'Muttu swamy', 'yekka permpiraa': 'perambadur', 'Chinna Swamy': 'Muttu swamy'}\n",
      "{'Venu Gopal Aiyyar': 'shivavenkata', 'Muttu swamy': 'Venu Gopal Aiyyar', 'Rajshekhera': 'Muttu swamy', 'yekka permpiraa': 'perambadur', 'Chinna Swamy': 'Muttu swamy'}\n"
     ]
    }
   ],
   "source": [
    "my_dict = {}\n",
    "for namef,namel in zip(Fname,Lname):\n",
    "    my_dict[namef]= namel\n",
    "    print(my_dict)\n"
   ]
  },
  {
   "cell_type": "code",
   "execution_count": 61,
   "metadata": {},
   "outputs": [
    {
     "data": {
      "text/plain": [
       "[('prod1', 10), ('prod2', 20), ('prod3', 30)]"
      ]
     },
     "execution_count": 61,
     "metadata": {},
     "output_type": "execute_result"
    }
   ],
   "source": [
    "items = [(\"prod1\",10),(\"prod2\",20),(\"prod3\",30)]\n",
    "items"
   ]
  },
  {
   "cell_type": "code",
   "execution_count": 62,
   "metadata": {},
   "outputs": [
    {
     "name": "stdout",
     "output_type": "stream",
     "text": [
      "[10, 20, 30]\n"
     ]
    }
   ],
   "source": [
    "price = []\n",
    "for item in items:\n",
    "    price.append(item[1])\n",
    "print(price)"
   ]
  },
  {
   "cell_type": "code",
   "execution_count": 63,
   "metadata": {},
   "outputs": [
    {
     "name": "stdout",
     "output_type": "stream",
     "text": [
      "[10, 20, 30]\n"
     ]
    }
   ],
   "source": [
    "x=list(map(lambda x:x[1], items))\n",
    "print(x)"
   ]
  },
  {
   "cell_type": "code",
   "execution_count": 64,
   "metadata": {},
   "outputs": [
    {
     "name": "stdout",
     "output_type": "stream",
     "text": [
      "['prod1', 'prod2', 'prod3']\n"
     ]
    }
   ],
   "source": [
    "y=list(map(lambda x:x[0], items))\n",
    "print(y)"
   ]
  },
  {
   "cell_type": "code",
   "execution_count": 65,
   "metadata": {},
   "outputs": [
    {
     "name": "stdout",
     "output_type": "stream",
     "text": [
      "7\n"
     ]
    }
   ],
   "source": [
    "def mx(x,y):\n",
    "    if x> y:\n",
    "     return x\n",
    "    else:\n",
    "        return y\n",
    "print(mx(7,5))"
   ]
  },
  {
   "cell_type": "code",
   "execution_count": 50,
   "metadata": {},
   "outputs": [
    {
     "name": "stdout",
     "output_type": "stream",
     "text": [
      "10\n"
     ]
    }
   ],
   "source": [
    "# Lambda function \n",
    "H_num = lambda x,z:x if x > z else z\n",
    "print(H_num(8,10))"
   ]
  },
  {
   "cell_type": "code",
   "execution_count": 66,
   "metadata": {},
   "outputs": [
    {
     "name": "stdout",
     "output_type": "stream",
     "text": [
      "8\n"
     ]
    }
   ],
   "source": [
    "xx=lambda x,y:x if x>y else y\n",
    "print(xx(8,7))"
   ]
  },
  {
   "cell_type": "code",
   "execution_count": 51,
   "metadata": {},
   "outputs": [
    {
     "name": "stdout",
     "output_type": "stream",
     "text": [
      "Alpha 15\n",
      "beta 25\n",
      "gamma 35\n",
      "delta 40\n"
     ]
    }
   ],
   "source": [
    "class portfolio:\n",
    "    def __init__(self):\n",
    "        self.holdings = {}\n",
    "        \n",
    "    def buy(self,ticker,shares):\n",
    "        self.holdings[ticker]=self.holdings.get(ticker,0)+shares\n",
    "        \n",
    "    def sell(self,ticker,shares):\n",
    "        self.holdings[ticker]=self.holdings.get(ticker,0)-shares\n",
    "        \n",
    "    def __iter__(self):\n",
    "        return iter(self.holdings.items())\n",
    "    \n",
    "p=portfolio()\n",
    "p.buy('Alpha',15)\n",
    "p.buy('beta',25)\n",
    "p.buy('gamma',35)\n",
    "p.buy('delta',40)\n",
    "\n",
    "for (ticker,shares) in p:\n",
    "    print(ticker,shares)"
   ]
  },
  {
   "cell_type": "code",
   "execution_count": 52,
   "metadata": {},
   "outputs": [
    {
     "name": "stdout",
     "output_type": "stream",
     "text": [
      "Alpha 5\n",
      "beta 25\n",
      "gamma 35\n",
      "delta 40\n"
     ]
    }
   ],
   "source": [
    "p.sell('Alpha',10)\n",
    "for(ticker,shares)in p:\n",
    "    print(ticker,shares)"
   ]
  },
  {
   "cell_type": "markdown",
   "metadata": {},
   "source": [
    "# Cards and combo"
   ]
  },
  {
   "cell_type": "code",
   "execution_count": 11,
   "metadata": {},
   "outputs": [],
   "source": [
    "import itertools\n",
    "\n",
    "ranks =  list(range(2,11))+['J','K','Q','A']\n",
    "ranks = [str(rank) for rank in ranks]"
   ]
  },
  {
   "cell_type": "code",
   "execution_count": 12,
   "metadata": {},
   "outputs": [
    {
     "name": "stdout",
     "output_type": "stream",
     "text": [
      "['2', '3', '4', '5', '6', '7', '8', '9', '10', 'J', 'K', 'Q', 'A']\n"
     ]
    }
   ],
   "source": [
    "print(ranks)"
   ]
  },
  {
   "cell_type": "code",
   "execution_count": 13,
   "metadata": {},
   "outputs": [
    {
     "name": "stdout",
     "output_type": "stream",
     "text": [
      "the number of 3-card poker hands is 22100.\n",
      "the number of 2-card poker hand is 1326.\n",
      "the number of 4-card poker hand is 270725.\n"
     ]
    }
   ],
   "source": [
    "suits = ['hearts','shades','daimonds','spades']\n",
    "deck = [card for card in itertools.product(ranks,suits)]\n",
    "\n",
    "hands = [hand for hand in itertools.combinations(deck,3)]\n",
    "hands2 = [hands for hand in itertools.combinations(deck,2)]\n",
    "hands4 = [hands for hand in itertools.combinations(deck,4)]\n",
    "\n",
    "print(f\"the number of 3-card poker hands is {len(hands)}.\")\n",
    "print(f\"the number of 2-card poker hand is {len(hands2)}.\")\n",
    "print(f\"the number of 4-card poker hand is {len(hands4)}.\")"
   ]
  },
  {
   "cell_type": "code",
   "execution_count": 14,
   "metadata": {},
   "outputs": [
    {
     "name": "stdout",
     "output_type": "stream",
     "text": [
      "the factorial of 7 is 5040\n"
     ]
    }
   ],
   "source": [
    "# recursive function\n",
    "def factorial(x):\n",
    "    #this is recursive function\n",
    "    #to find the factorial of integers\n",
    "    \n",
    "    if x==1:\n",
    "        return 1\n",
    "    else:\n",
    "        return(x*factorial(x-1))\n",
    "\n",
    "num = 7\n",
    "print(\"the factorial of\", num, \"is\",factorial(num))"
   ]
  },
  {
   "cell_type": "markdown",
   "metadata": {},
   "source": [
    "# Fibonacci number"
   ]
  },
  {
   "cell_type": "code",
   "execution_count": 74,
   "metadata": {},
   "outputs": [
    {
     "name": "stdout",
     "output_type": "stream",
     "text": [
      "1 : 1\n",
      "2 : 1\n",
      "3 : 2\n",
      "4 : 3\n",
      "5 : 5\n",
      "6 : 8\n",
      "7 : 13\n",
      "8 : 21\n",
      "9 : 34\n",
      "10 : 55\n",
      "11 : 89\n",
      "12 : 144\n",
      "13 : 233\n",
      "14 : 377\n"
     ]
    }
   ],
   "source": [
    "def fibonacci (n):\n",
    "    if n==1:\n",
    "      return 1\n",
    "    elif n==2:\n",
    "     return 1\n",
    "    elif n > 2:\n",
    "     return fibonacci (n-1) + fibonacci(n-2)\n",
    "    \n",
    "for n in range(1,15):\n",
    "    print(n, \":\",fibonacci(n))"
   ]
  },
  {
   "cell_type": "code",
   "execution_count": 53,
   "metadata": {},
   "outputs": [
    {
     "name": "stdout",
     "output_type": "stream",
     "text": [
      "0\n",
      "1\n",
      "1\n",
      "2\n",
      "3\n",
      "5\n",
      "8\n",
      "13\n",
      "21\n",
      "34\n",
      "55\n",
      "89\n"
     ]
    }
   ],
   "source": [
    "# New way af fibonacci\n",
    "def fib(n):\n",
    "\n",
    "    a=0\n",
    "    b=1\n",
    "    if n==1:\n",
    "        print(a)\n",
    "    else:\n",
    "        print(a)\n",
    "        print(b)\n",
    "        \n",
    "        for i in range (1,n):\n",
    "            c = a + b\n",
    "            a=b\n",
    "            b=c\n",
    "            print(c)\n",
    "fib(11)"
   ]
  },
  {
   "cell_type": "code",
   "execution_count": 54,
   "metadata": {},
   "outputs": [
    {
     "name": "stdout",
     "output_type": "stream",
     "text": [
      "1 : 1\n",
      "2 : 1\n",
      "3 : 2\n",
      "4 : 3\n",
      "5 : 5\n",
      "6 : 8\n",
      "7 : 13\n",
      "8 : 21\n",
      "9 : 34\n",
      "10 : 55\n"
     ]
    }
   ],
   "source": [
    "def fibonacci(n):  \n",
    "    if n==1:\n",
    "     return 1\n",
    "    elif n==2:\n",
    "     return 1\n",
    "    elif n > 2:\n",
    "     return fibonacci(n-1)+fibonacci(n-2)\n",
    "    \n",
    "for n in range(1,11):\n",
    "    print(n, \":\",fibonacci(n))"
   ]
  },
  {
   "cell_type": "markdown",
   "metadata": {},
   "source": [
    "## we insted use the memorization to run the fibonacci sequennce more fastly"
   ]
  },
  {
   "cell_type": "code",
   "execution_count": null,
   "metadata": {},
   "outputs": [],
   "source": [
    "fibonacci_cache = {}\n",
    "def fibonacci(n):\n",
    "    #if we have cached the value, then return it\n",
    "    if n in fibonacci_cache:\n",
    "        return fibonacci_cache[n]\n",
    "    #compute the Nth term\n",
    "    if n==1:\n",
    "        value =1\n",
    "    elif n==2:\n",
    "        value=1\n",
    "    elif n > 2:\n",
    "        value = fibonacci(n-1)+fibonacci(n-2)\n",
    "        \n",
    "    #Cache the value return it\n",
    "    fibonacci_cache[n] = value\n",
    "    return value\n",
    "    \n"
   ]
  },
  {
   "cell_type": "code",
   "execution_count": null,
   "metadata": {},
   "outputs": [],
   "source": [
    "for n in range(1,101):\n",
    "    print(n, \":\",fibonacci(n))"
   ]
  },
  {
   "cell_type": "markdown",
   "metadata": {},
   "source": [
    "# #even more simplify the with function lru_cache\n",
    "### LRU = Least Recently Used Cache\n",
    "\n",
    "need to run the lru cache befor the function need to right \n",
    "@lru_cache(maxsize=1000)"
   ]
  },
  {
   "cell_type": "code",
   "execution_count": null,
   "metadata": {},
   "outputs": [],
   "source": [
    "from functools import lru_cache\n",
    "@lru_cache(maxsize=1000)\n",
    "def fibonacci(n):\n",
    "    if n==1:\n",
    "        return 1\n",
    "    elif n==2:\n",
    "        return 1\n",
    "    elif n > 2:\n",
    "        return fibonacci(n-1)+fibonacci(n-2)\n",
    "\n",
    "for n in range(1,500):\n",
    "    print(n, \":\", fibonacci(n))\n"
   ]
  },
  {
   "cell_type": "markdown",
   "metadata": {},
   "source": [
    "what if we type 2.1 as n value / string / negtive value need to fix it "
   ]
  },
  {
   "cell_type": "code",
   "execution_count": null,
   "metadata": {},
   "outputs": [],
   "source": [
    "@lru_cache(maxsize=1000)\n",
    "def fibonacci(n):\n",
    "    #check the value is positive integer\n",
    "    if type(n) != int:\n",
    "      raise TypeError(\"n must be a positive int\")\n",
    "    if n < 1:\n",
    "      raise ValueError(\"n must be positive int\")\n",
    "        \n",
    "    #compute the Nth Term\n",
    "    if n==1:\n",
    "      return 1\n",
    "    elif n==2:\n",
    "      return 1\n",
    "    elif n > 2:\n",
    "      return fibonacci(n-1)+fibonacci(n-2)\n",
    "    print(fibonacci(2.3))\n",
    "        \n",
    "    "
   ]
  },
  {
   "cell_type": "markdown",
   "metadata": {},
   "source": [
    " # Random Walk \n",
    " # Interview Questions"
   ]
  },
  {
   "cell_type": "code",
   "execution_count": 55,
   "metadata": {},
   "outputs": [],
   "source": [
    "import random\n",
    "\n",
    "def random_walk(n):\n",
    " #return coardinates after 'n' block random walk\"\"\n",
    " x = 0\n",
    " y = 0\n",
    " for i in range(n):\n",
    "   step = random.choice(['N','S','E','W'])\n",
    "   if step == 'N':\n",
    "      y = y + 1\n",
    "   elif step == 'S':\n",
    "      y= y - 1\n",
    "   elif step == 'E':\n",
    "      x=x+1\n",
    "   else:\n",
    "     x= x-1\n",
    " return(x,y)\n",
    "\n",
    "        "
   ]
  },
  {
   "cell_type": "code",
   "execution_count": 56,
   "metadata": {},
   "outputs": [
    {
     "name": "stdout",
     "output_type": "stream",
     "text": [
      "(-3, -1) distance from home =  4\n",
      "(-4, -2) distance from home =  6\n",
      "(-1, 3) distance from home =  4\n",
      "(0, 2) distance from home =  2\n",
      "(-1, 1) distance from home =  2\n",
      "(-1, 1) distance from home =  2\n",
      "(-3, 3) distance from home =  6\n",
      "(-3, -5) distance from home =  8\n",
      "(1, 5) distance from home =  6\n",
      "(0, 2) distance from home =  2\n",
      "(1, 3) distance from home =  4\n",
      "(3, -1) distance from home =  4\n",
      "(-2, -2) distance from home =  4\n",
      "(-2, 0) distance from home =  2\n",
      "(-3, -3) distance from home =  6\n"
     ]
    }
   ],
   "source": [
    "for i in range(15):\n",
    "  walk = random_walk(10)\n",
    "  print(walk, \"distance from home = \",\n",
    "        abs(walk[0]) + abs(walk[1]))"
   ]
  },
  {
   "cell_type": "code",
   "execution_count": null,
   "metadata": {},
   "outputs": [],
   "source": [
    "# simplified way\n",
    "import random\n",
    "\n",
    "def random_walk2(n):\n",
    "    x,y = 0,0\n",
    "    for i in range(n):\n",
    "        (dx,dy) = random.choice([(0,1),(0,-1),(1,0),(-1,0)])\n",
    "        x += dx\n",
    "        y += dy\n",
    "    return (x,y)\n",
    "number_of_walk = 100\n",
    "for walk_length in range(1,31):\n",
    " no_transport = 0 # number of walks 4 or fewer blocks from home\n",
    " for i in range(number_of_walk):\n",
    "        (x, y) = random_walk2(walk_length)\n",
    "        distance = abs(x) + abs(y)\n",
    "        if distance <= 4:\n",
    "            no_transport += 1\n",
    "        no_transport_percentage = float(no_transport) / number_of_walk\n",
    "        print(\"walk size = \", walk_length,\n",
    "              \" / % of no transport = \", 100*no_transport_percentage)"
   ]
  },
  {
   "cell_type": "code",
   "execution_count": null,
   "metadata": {},
   "outputs": [],
   "source": [
    "# list find out the total expenses\n",
    "exp = [100,1100,2500,3036,456]\n",
    "total = 0\n",
    "for item in exp:\n",
    "    total = list(exp + total)\n",
    "    print(total)"
   ]
  },
  {
   "cell_type": "code",
   "execution_count": null,
   "metadata": {},
   "outputs": [],
   "source": [
    "exp = [100,1100,2500,3036,456]\n"
   ]
  },
  {
   "cell_type": "code",
   "execution_count": null,
   "metadata": {},
   "outputs": [],
   "source": [
    "exp = [100,1100,2500,3036,456]\n",
    "for i in range(len(exp)):\n",
    "    print('Month :' (i+1),'expenses:',exp[i])"
   ]
  },
  {
   "cell_type": "code",
   "execution_count": null,
   "metadata": {},
   "outputs": [],
   "source": [
    "import pandas as pd\n",
    "import numpy as np"
   ]
  },
  {
   "cell_type": "code",
   "execution_count": null,
   "metadata": {},
   "outputs": [],
   "source": [
    "df = pd.read_csv(\"D:/Machine/titanic_data.csv\")\n",
    "df.head()"
   ]
  },
  {
   "cell_type": "code",
   "execution_count": null,
   "metadata": {},
   "outputs": [],
   "source": [
    "#convert the categoerical variable into factor  \n",
    "df['sex_num'] = df.Sex.map({'female': 0,'male':1})\n",
    "df.loc[0:4, ['Sex','sex_num']]"
   ]
  },
  {
   "cell_type": "code",
   "execution_count": null,
   "metadata": {},
   "outputs": [],
   "source": [
    "df['name_len'] = df.Name.apply(len)\n",
    "df.loc[0:4,['Name','name_len']]"
   ]
  },
  {
   "cell_type": "markdown",
   "metadata": {},
   "source": [
    "# Fare round up with the help of celing in numpy library"
   ]
  },
  {
   "cell_type": "code",
   "execution_count": null,
   "metadata": {},
   "outputs": [],
   "source": [
    "df['fare_ceil'] = df.Fare.apply(np.ceil)\n",
    "df.loc[0:4,['Fare','fare_ceil']]"
   ]
  },
  {
   "cell_type": "code",
   "execution_count": null,
   "metadata": {},
   "outputs": [],
   "source": [
    "df.Name.str.split(\",\").head()"
   ]
  },
  {
   "cell_type": "code",
   "execution_count": null,
   "metadata": {},
   "outputs": [],
   "source": [
    "# Create a function\n",
    "def get_element(my_list,position):\n",
    "    return my_list[position]"
   ]
  },
  {
   "cell_type": "code",
   "execution_count": null,
   "metadata": {},
   "outputs": [],
   "source": [
    "df.Name.str.split(\",\").apply(get_element,position = 0).head()"
   ]
  },
  {
   "cell_type": "code",
   "execution_count": null,
   "metadata": {},
   "outputs": [],
   "source": [
    "# lambda function\n",
    "df.Name.str.split(\",\").apply(lambda x:x[1]).head()"
   ]
  },
  {
   "cell_type": "code",
   "execution_count": null,
   "metadata": {},
   "outputs": [],
   "source": [
    "df.dtypes"
   ]
  },
  {
   "cell_type": "code",
   "execution_count": null,
   "metadata": {},
   "outputs": [],
   "source": [
    "# to get max value in the column / row axis = 0/1\n",
    "df.loc[:,\"SibSp\":\"Parch\"].apply(max,axis=0)\n"
   ]
  },
  {
   "cell_type": "code",
   "execution_count": null,
   "metadata": {},
   "outputs": [],
   "source": [
    "alist = [4,8,12,16]\n",
    "alist[1:4] = [20,24,28]\n",
    "print(alist)"
   ]
  },
  {
   "cell_type": "code",
   "execution_count": null,
   "metadata": {},
   "outputs": [],
   "source": [
    "alist.append(299)\n",
    "print(alist)"
   ]
  },
  {
   "cell_type": "code",
   "execution_count": null,
   "metadata": {},
   "outputs": [],
   "source": [
    "# to remove perticular array .pop(index num) or .remove(index num)\n",
    "alist.pop(4)\n",
    "alist"
   ]
  },
  {
   "cell_type": "markdown",
   "metadata": {},
   "source": [
    "# **Hotel Resturent Bill**"
   ]
  },
  {
   "cell_type": "code",
   "execution_count": 3,
   "metadata": {},
   "outputs": [
    {
     "name": "stdout",
     "output_type": "stream",
     "text": [
      "Welcome to My Dhaaba\n",
      "Paneer (200 rs)\n",
      "Lassi (80 rs)\n",
      "Tandoori (10 rs)\n",
      "Naan (25 rs)\n",
      "rice (200 rs)\n",
      "Press e for Exit\n",
      "Enter your orderLassi\n",
      "Paneer (200 rs)\n",
      "Lassi (80 rs)\n",
      "Tandoori (10 rs)\n",
      "Naan (25 rs)\n",
      "rice (200 rs)\n",
      "Press e for Exit\n",
      "Enter your ordere\n",
      "your total bill is= 80\n"
     ]
    }
   ],
   "source": [
    "print (\"Welcome to My Dhaaba\")\n",
    "sum = 0\n",
    "dict = {\"Paneer\" : 200, \"Lassi\":80, \"Tandoori\" : 10, \"Naan\" : 25, \"rice\" : 100}\n",
    "lst = list(dict.keys())\n",
    "\n",
    "while True:\n",
    "    print(\"Paneer (200 rs)\" )\n",
    "    print(\"Lassi (80 rs)\" )\n",
    "    print(\"Tandoori (10 rs)\" )\n",
    "    print(\"Naan (25 rs)\" )\n",
    "    print(\"rice (200 rs)\" )\n",
    "    print (\"Press e for Exit\")\n",
    "    order = input(\"Enter your order\")\n",
    "    if order in lst:\n",
    "        sum = sum+dict[order]\n",
    "    elif order =='e':\n",
    "        break\n",
    "    else:\n",
    "        print(\"Enter right item\")\n",
    "        \n",
    "print(\"your total bill is=\",sum)\n"
   ]
  },
  {
   "cell_type": "markdown",
   "metadata": {},
   "source": [
    "# ***Income Tax Calculation***"
   ]
  },
  {
   "cell_type": "code",
   "execution_count": 4,
   "metadata": {},
   "outputs": [
    {
     "name": "stdout",
     "output_type": "stream",
     "text": [
      "Enter amount:300000\n",
      "income tax =  5000.0\n",
      "Health & Cess =  200.0\n",
      "Total Tax is :  5200.0\n"
     ]
    }
   ],
   "source": [
    "income = int(input(\"Enter amount:\",))\n",
    "tax=0\n",
    "cess=0\n",
    "\n",
    "if income <= 250000:\n",
    "    tax = 0\n",
    "elif income <=500000:\n",
    "    tax=(income - 250000)*0.1\n",
    "elif income <=1000000:\n",
    "    tax=12500(income-500000)*0.2\n",
    "else:\n",
    "    tax = 12500+100000(income - 1000000) *0.3\n",
    "cess = tax*0.04\n",
    "tax_total= tax + cess\n",
    "print (\"income tax = \",tax)\n",
    "print (\"Health & Cess = \",cess)\n",
    "print (\"Total Tax is : \",tax_total)"
   ]
  },
  {
   "cell_type": "code",
   "execution_count": 5,
   "metadata": {},
   "outputs": [
    {
     "name": "stdout",
     "output_type": "stream",
     "text": [
      "How much is meal cost:500\n",
      "Your total meal tax is :$ 580.00\n"
     ]
    }
   ],
   "source": [
    "meal = int(input(\"How much is meal cost:\",))\n",
    "total_cost = meal + (meal * .06) + (meal *  .10)\n",
    "print (\"Your total meal tax is :$% .2f\" % total_cost)"
   ]
  },
  {
   "cell_type": "code",
   "execution_count": null,
   "metadata": {},
   "outputs": [],
   "source": [
    "# Function for outlier\n",
    "def number_of_outlier(df):\n",
    "    df.select_dtypes(exclude='object')\n",
    "    \n",
    "    q1=df.quantile(0.25)\n",
    "    q3=df.quantile(0.75)\n",
    "    IQR =  q3 - q1\n",
    "    \n",
    "    return(df < (q1-1.5*IQR))|(df>(q3+1.5*IQR))).sum()    \n"
   ]
  },
  {
   "cell_type": "code",
   "execution_count": null,
   "metadata": {},
   "outputs": [],
   "source": [
    "def lower_upper_range(datacolumn):\n",
    "    sorted(datacolumn)\n",
    "    Q1,Q3 = np.percentile(datacolumn)\n",
    "    IQR = Q3 - Q1\n",
    "    lower_range = Q1 -(1.5*IQR)\n",
    "    upper_range = Q3 +(1.5*IQR)\n",
    "    return lower_range,upper_range\n",
    "\n",
    "for col in columns:\n",
    "    lowerbound,upperbound = lower_upper_range(df[col])\n",
    "    df[col]=np.clip(df[col],a_min=lowerbound,a_max=upperbound)"
   ]
  },
  {
   "cell_type": "code",
   "execution_count": 7,
   "metadata": {},
   "outputs": [
    {
     "ename": "NameError",
     "evalue": "name 'df' is not defined",
     "output_type": "error",
     "traceback": [
      "\u001b[1;31m---------------------------------------------------------------------------\u001b[0m",
      "\u001b[1;31mNameError\u001b[0m                                 Traceback (most recent call last)",
      "\u001b[1;32m<ipython-input-7-913e851a0818>\u001b[0m in \u001b[0;36m<module>\u001b[1;34m\u001b[0m\n\u001b[1;32m----> 1\u001b[1;33m \u001b[0mdf\u001b[0m\u001b[1;33m[\u001b[0m\u001b[1;34m'carname'\u001b[0m\u001b[1;33m]\u001b[0m \u001b[1;33m=\u001b[0m \u001b[0mdf\u001b[0m\u001b[1;33m[\u001b[0m\u001b[1;34m'carname'\u001b[0m\u001b[1;33m]\u001b[0m\u001b[1;33m.\u001b[0m\u001b[0mstr\u001b[0m\u001b[1;33m.\u001b[0m\u001b[0msplit\u001b[0m\u001b[1;33m(\u001b[0m\u001b[1;33m)\u001b[0m\u001b[1;33m.\u001b[0m\u001b[0mstr\u001b[0m\u001b[1;33m[\u001b[0m\u001b[1;36m0\u001b[0m\u001b[1;33m]\u001b[0m\u001b[1;33m\u001b[0m\u001b[1;33m\u001b[0m\u001b[0m\n\u001b[0m\u001b[0;32m      2\u001b[0m \u001b[0mprint\u001b[0m\u001b[1;33m(\u001b[0m\u001b[0mdf\u001b[0m\u001b[1;33m[\u001b[0m\u001b[1;34m'carname'\u001b[0m\u001b[1;33m]\u001b[0m\u001b[1;33m.\u001b[0m\u001b[0munique\u001b[0m\u001b[1;33m(\u001b[0m\u001b[1;33m)\u001b[0m\u001b[1;33m)\u001b[0m\u001b[1;33m\u001b[0m\u001b[1;33m\u001b[0m\u001b[0m\n",
      "\u001b[1;31mNameError\u001b[0m: name 'df' is not defined"
     ]
    }
   ],
   "source": [
    "df['carname'] = df['carname'].str.split().str[0]\n",
    "print(df['carname'].unique())"
   ]
  },
  {
   "cell_type": "code",
   "execution_count": 6,
   "metadata": {},
   "outputs": [
    {
     "ename": "NameError",
     "evalue": "name 'df' is not defined",
     "output_type": "error",
     "traceback": [
      "\u001b[1;31m---------------------------------------------------------------------------\u001b[0m",
      "\u001b[1;31mNameError\u001b[0m                                 Traceback (most recent call last)",
      "\u001b[1;32m<ipython-input-6-dc1496fab777>\u001b[0m in \u001b[0;36m<module>\u001b[1;34m\u001b[0m\n\u001b[1;32m----> 1\u001b[1;33m \u001b[0mdf\u001b[0m\u001b[1;33m.\u001b[0m\u001b[0mloc\u001b[0m\u001b[1;33m[\u001b[0m\u001b[0mdf\u001b[0m\u001b[1;33m[\u001b[0m\u001b[1;34m'CarName'\u001b[0m\u001b[1;33m]\u001b[0m \u001b[1;33m==\u001b[0m \u001b[1;34m'maxda'\u001b[0m\u001b[1;33m,\u001b[0m\u001b[1;34m'CarName'\u001b[0m\u001b[1;33m]\u001b[0m \u001b[1;33m=\u001b[0m \u001b[1;34m'mazda'\u001b[0m\u001b[1;33m\u001b[0m\u001b[1;33m\u001b[0m\u001b[0m\n\u001b[0m\u001b[0;32m      2\u001b[0m \u001b[0mdf\u001b[0m\u001b[1;33m.\u001b[0m\u001b[0mloc\u001b[0m\u001b[1;33m[\u001b[0m\u001b[0mdf\u001b[0m\u001b[1;33m[\u001b[0m\u001b[1;34m'CarName'\u001b[0m\u001b[1;33m]\u001b[0m \u001b[1;33m==\u001b[0m \u001b[1;34m'Nissan'\u001b[0m\u001b[1;33m,\u001b[0m\u001b[1;34m'CarName'\u001b[0m\u001b[1;33m]\u001b[0m \u001b[1;33m=\u001b[0m \u001b[1;34m'nissan'\u001b[0m\u001b[1;33m\u001b[0m\u001b[1;33m\u001b[0m\u001b[0m\n\u001b[0;32m      3\u001b[0m \u001b[0mdf\u001b[0m\u001b[1;33m.\u001b[0m\u001b[0mloc\u001b[0m\u001b[1;33m[\u001b[0m\u001b[0mdf\u001b[0m\u001b[1;33m[\u001b[0m\u001b[1;34m'CarName'\u001b[0m\u001b[1;33m]\u001b[0m \u001b[1;33m==\u001b[0m \u001b[1;34m'toyouta'\u001b[0m\u001b[1;33m,\u001b[0m\u001b[1;34m'CarName'\u001b[0m\u001b[1;33m]\u001b[0m \u001b[1;33m=\u001b[0m \u001b[1;34m'toyata'\u001b[0m\u001b[1;33m\u001b[0m\u001b[1;33m\u001b[0m\u001b[0m\n",
      "\u001b[1;31mNameError\u001b[0m: name 'df' is not defined"
     ]
    }
   ],
   "source": [
    "df.loc[df['CarName'] == 'maxda','CarName'] = 'mazda'\n",
    "df.loc[df['CarName'] == 'Nissan','CarName'] = 'nissan'\n",
    "df.loc[df['CarName'] == 'toyouta','CarName'] = 'toyata'\n"
   ]
  },
  {
   "cell_type": "code",
   "execution_count": null,
   "metadata": {},
   "outputs": [],
   "source": [
    "df.loc[df.duplicated()]"
   ]
  },
  {
   "cell_type": "code",
   "execution_count": null,
   "metadata": {},
   "outputs": [],
   "source": [
    "df.drop_duplicates()"
   ]
  },
  {
   "cell_type": "code",
   "execution_count": 60,
   "metadata": {},
   "outputs": [
    {
     "name": "stdout",
     "output_type": "stream",
     "text": [
      "{'wheels': 4, 'color': 'red'}\n",
      "{'wheels': 4, 'color': 'red'}\n"
     ]
    }
   ],
   "source": [
    "# Dictionary value can be iterated over\n",
    "car = {\"wheels\" : 4, \"color\":\"red\"}\n",
    "\n",
    "for key in car:\n",
    "    #for val in car:\n",
    "    print(car)\n",
    "    #print (key + \": \" +car[key])"
   ]
  },
  {
   "cell_type": "code",
   "execution_count": null,
   "metadata": {},
   "outputs": [],
   "source": []
  },
  {
   "cell_type": "code",
   "execution_count": 7,
   "metadata": {},
   "outputs": [
    {
     "name": "stdout",
     "output_type": "stream",
     "text": [
      "15\n"
     ]
    }
   ],
   "source": [
    "a=[1,2,3,4,5]\n",
    "b=0\n",
    "for x in a:\n",
    "    b += b if b % 2 else x\n",
    "    b =  not b\n",
    "print(b)"
   ]
  },
  {
   "cell_type": "code",
   "execution_count": null,
   "metadata": {},
   "outputs": [],
   "source": [
    "# converting the colummn value of pllayer and team into lower case\n",
    "columns = df.select_dtypes(include = 'object')\n",
    "columns = list(columns,columns)\n",
    "for i in columns:\n",
    "    df[i]=df[i].str.lower()\n",
    "df\n"
   ]
  },
  {
   "cell_type": "code",
   "execution_count": 12,
   "metadata": {},
   "outputs": [
    {
     "name": "stdout",
     "output_type": "stream",
     "text": [
      "['Mariya', 'AmanBatman', 'Spongebob']\n"
     ]
    }
   ],
   "source": [
    "names = [\"mariya\",\"BATMAN\",\"spongebob\"]\n",
    "new_names = []\n",
    "\n",
    "for n in names:\n",
    "    if n.islower():\n",
    "        n = n.capitalize()\n",
    "    else:\n",
    "        n = 'Aman' + n.capitalize()\n",
    "    new_names.append(n)\n",
    "names = new_names\n",
    "print(names)"
   ]
  },
  {
   "cell_type": "code",
   "execution_count": 15,
   "metadata": {},
   "outputs": [
    {
     "data": {
      "text/plain": [
       "['Mahadev', 'Aman Mashetty', 'Dhannur']"
      ]
     },
     "execution_count": 15,
     "metadata": {},
     "output_type": "execute_result"
    }
   ],
   "source": [
    "#list comprehension\n",
    "names = [\"mahadev\",\"MASHETTY\",'dhannur']\n",
    "[\n",
    "n.capitalize() if n.islower()\n",
    "else \"Aman \" + n.capitalize()\n",
    "for n in names\n",
    "]"
   ]
  },
  {
   "cell_type": "code",
   "execution_count": 19,
   "metadata": {},
   "outputs": [
    {
     "name": "stdout",
     "output_type": "stream",
     "text": [
      "hiddenmessage\n"
     ]
    }
   ],
   "source": [
    "my_string = \"hi442nm233ag2\"\n",
    "new_string = \"\".join(\n",
    "[\"d\" if i==\"4\"\n",
    "else \"e\" if i==\"2\"\n",
    "else \"s\" if i==\"3\"\n",
    "else i \n",
    "for i in my_string]\n",
    ")\n",
    "\n",
    "print(new_string)"
   ]
  },
  {
   "cell_type": "code",
   "execution_count": 35,
   "metadata": {},
   "outputs": [
    {
     "name": "stdout",
     "output_type": "stream",
     "text": [
      "[['Vinod', 'mahadev', 'bhadru'], ['Vinod', 'mahadev', 'bhadru'], ['Vinod', 'mahadev', 'bhadru']]\n"
     ]
    }
   ],
   "source": [
    "fnames = [\"Vinod\",\"mahadev\",\"bhadru\"]\n",
    "new_n = []\n",
    "\n",
    "for name in fnames:\n",
    "    name = name.upper()\n",
    "    new_n.append(fnames)\n",
    "print(new_n)"
   ]
  },
  {
   "cell_type": "code",
   "execution_count": 28,
   "metadata": {},
   "outputs": [
    {
     "name": "stdout",
     "output_type": "stream",
     "text": [
      "['APPLES', 'BANANA', 'STRABERRIES']\n"
     ]
    }
   ],
   "source": [
    "fruits = ['apples','baNana','StrAberries']\n",
    "new_fruits=[]\n",
    "\n",
    "for fruit in fruits:\n",
    "    fruit = fruit.upper()\n",
    "    new_fruits.append(fruit)\n",
    "\n",
    "fruits = new_fruits\n",
    "print(fruits)"
   ]
  },
  {
   "cell_type": "code",
   "execution_count": 37,
   "metadata": {},
   "outputs": [
    {
     "name": "stdout",
     "output_type": "stream",
     "text": [
      "['VINOD', 'MAHADEV', 'BHADRU']\n"
     ]
    }
   ],
   "source": [
    "namess = [name.upper() for name in fnames]\n",
    "print(namess)"
   ]
  },
  {
   "cell_type": "code",
   "execution_count": 50,
   "metadata": {},
   "outputs": [
    {
     "name": "stdout",
     "output_type": "stream",
     "text": [
      "[2, 2, 2, 2, 2, 2, 2, 2]\n"
     ]
    }
   ],
   "source": [
    "#conditional\n",
    "\n",
    "bitss = [\"False\",\"True\",\"False\",\"False\",\"True\",\"False\",\"False\",\"True\"]\n",
    "new_bitss = []\n",
    "\n",
    "for b in bitss:\n",
    "    if b==True:\n",
    "        new_bitss.append(1)\n",
    "    else:\n",
    "        new_bitss.append(2)\n",
    "print(new_bitss)"
   ]
  },
  {
   "cell_type": "code",
   "execution_count": 51,
   "metadata": {},
   "outputs": [
    {
     "name": "stdout",
     "output_type": "stream",
     "text": [
      "[0, 0, 0, 0, 0, 0, 0, 0]\n"
     ]
    }
   ],
   "source": [
    "sb = [1 if b == True else 0 for b in bitss]\n",
    "print(sb)"
   ]
  },
  {
   "cell_type": "code",
   "execution_count": 66,
   "metadata": {},
   "outputs": [
    {
     "name": "stdout",
     "output_type": "stream",
     "text": [
      "Hello My name is Aman\n"
     ]
    }
   ],
   "source": [
    "my_string = \"HelloMyNameIsAman\"\n",
    "my_string =\"\".join(\n",
    "    [i if i.islower() else \" \"+ i.lower() if i in [\"N\",\"I\"] else \" \"+ i for i in my_string]\n",
    ")[1:]\n",
    "print(my_string)"
   ]
  },
  {
   "cell_type": "code",
   "execution_count": null,
   "metadata": {},
   "outputs": [],
   "source": [
    "# we cannot use elseif in lC"
   ]
  },
  {
   "cell_type": "code",
   "execution_count": null,
   "metadata": {},
   "outputs": [],
   "source": []
  },
  {
   "cell_type": "code",
   "execution_count": null,
   "metadata": {},
   "outputs": [],
   "source": []
  },
  {
   "cell_type": "code",
   "execution_count": null,
   "metadata": {},
   "outputs": [],
   "source": []
  },
  {
   "cell_type": "code",
   "execution_count": null,
   "metadata": {},
   "outputs": [],
   "source": []
  },
  {
   "cell_type": "code",
   "execution_count": null,
   "metadata": {},
   "outputs": [],
   "source": []
  },
  {
   "cell_type": "code",
   "execution_count": null,
   "metadata": {},
   "outputs": [],
   "source": []
  },
  {
   "cell_type": "code",
   "execution_count": null,
   "metadata": {},
   "outputs": [],
   "source": []
  },
  {
   "cell_type": "code",
   "execution_count": null,
   "metadata": {},
   "outputs": [],
   "source": []
  },
  {
   "cell_type": "code",
   "execution_count": null,
   "metadata": {},
   "outputs": [],
   "source": []
  },
  {
   "cell_type": "code",
   "execution_count": null,
   "metadata": {},
   "outputs": [],
   "source": []
  },
  {
   "cell_type": "code",
   "execution_count": null,
   "metadata": {},
   "outputs": [],
   "source": []
  }
 ],
 "metadata": {
  "kernelspec": {
   "display_name": "Python 3",
   "language": "python",
   "name": "python3"
  },
  "language_info": {
   "codemirror_mode": {
    "name": "ipython",
    "version": 3
   },
   "file_extension": ".py",
   "mimetype": "text/x-python",
   "name": "python",
   "nbconvert_exporter": "python",
   "pygments_lexer": "ipython3",
   "version": "3.7.1"
  }
 },
 "nbformat": 4,
 "nbformat_minor": 2
}
