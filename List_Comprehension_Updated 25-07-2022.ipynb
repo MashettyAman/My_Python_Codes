{
  "cells": [
    {
      "cell_type": "markdown",
      "metadata": {
        "id": "view-in-github",
        "colab_type": "text"
      },
      "source": [
        "<a href=\"https://colab.research.google.com/github/MashettyAman/My_Python_Codes/blob/main/List_Comprehension_Updated%2025-07-2022.ipynb\" target=\"_parent\"><img src=\"https://colab.research.google.com/assets/colab-badge.svg\" alt=\"Open In Colab\"/></a>"
      ]
    },
    {
      "cell_type": "markdown",
      "metadata": {
        "id": "OZ25mLRd2taK"
      },
      "source": [
        "## List comprehensions \n",
        "'with the help of comprehensions we can write single line of code for list "
      ]
    },
    {
      "cell_type": "code",
      "execution_count": null,
      "metadata": {
        "id": "AWoR7ys92taa"
      },
      "outputs": [],
      "source": [
        "square=[]\n",
        "for i in range (1,21):\n",
        " square.append(i**2)\n",
        "print(square)"
      ]
    },
    {
      "cell_type": "code",
      "execution_count": null,
      "metadata": {
        "id": "VTc5ut8s2tad"
      },
      "outputs": [],
      "source": [
        "#List comprihansion\n",
        "\n",
        "squ2=[i**2 for i in range(1,21)]\n",
        "print(squ2)\n"
      ]
    },
    {
      "cell_type": "code",
      "execution_count": null,
      "metadata": {
        "id": "P0o01Kyp2tag"
      },
      "outputs": [],
      "source": [
        "movies = [\"Don\",\"Rocky\",\"RHTDM\",\"Rathstaan\",\"sherlock\"]\n",
        "movies"
      ]
    },
    {
      "cell_type": "code",
      "execution_count": null,
      "metadata": {
        "id": "CiLhqvwB2tah"
      },
      "outputs": [],
      "source": [
        "rmovie=[]\n",
        "for title in movies:\n",
        "    if title.endswith('n'):\n",
        "        rmovie.append(title)\n",
        "print(rmovie)\n"
      ]
    },
    {
      "cell_type": "code",
      "execution_count": null,
      "metadata": {
        "id": "80OXbp1-2taj"
      },
      "outputs": [],
      "source": [
        "Rmovies=[]\n",
        "for title in movies:\n",
        "    if title.startswith(\"R\"):\n",
        "        Rmovies.append(title)\n",
        "print(Rmovies)"
      ]
    },
    {
      "cell_type": "code",
      "execution_count": null,
      "metadata": {
        "id": "8U916tji2tal"
      },
      "outputs": [],
      "source": [
        "rrm = [title for title in movies if title.endswith('n')]\n",
        "rrm"
      ]
    },
    {
      "cell_type": "code",
      "execution_count": null,
      "metadata": {
        "id": "htIjimB22tan"
      },
      "outputs": [],
      "source": [
        "Etty_Names = [\"Mashetty\",\"Kamshetty\",\"Narshetty\",\"Karabshetti\",\"shenkshetti\"]\n",
        "Etty_Names"
      ]
    },
    {
      "cell_type": "code",
      "execution_count": null,
      "metadata": {
        "id": "GMHvVu2L2taq"
      },
      "outputs": [],
      "source": [
        "ettyN=[]\n",
        "for title in Etty_Names: \n",
        "    if title.endswith(\"etty\"):\n",
        "        ettyN.append(title)\n",
        "print(ettyN)"
      ]
    },
    {
      "cell_type": "code",
      "execution_count": null,
      "metadata": {
        "id": "SWPm4bUD2tat"
      },
      "outputs": [],
      "source": [
        "tt = [title for title in Etty_Names if title.startswith(\"she\") or title.endswith(\"etty\")]\n",
        "print(tt)"
      ]
    },
    {
      "cell_type": "code",
      "execution_count": null,
      "metadata": {
        "id": "GIajylED2tav"
      },
      "outputs": [],
      "source": [
        "tt = []\n",
        "for title in Etty_Names:\n",
        "        #if title.endswith(\"etty\") or title.startswith(\"she\"):\n",
        "        if title.endswith((\"etty\",\"tti\")):  \n",
        "            tt.append(title)\n",
        "print(tt)"
      ]
    },
    {
      "cell_type": "markdown",
      "metadata": {
        "id": "dUn-84nz2tax"
      },
      "source": [
        "# Scalar Multiplication"
      ]
    },
    {
      "cell_type": "code",
      "execution_count": null,
      "metadata": {
        "id": "LEAxFcdQ2tay"
      },
      "outputs": [],
      "source": [
        "V = [1,2,4,-16]"
      ]
    },
    {
      "cell_type": "code",
      "execution_count": null,
      "metadata": {
        "id": "C8EOpS9J2taz"
      },
      "outputs": [],
      "source": [
        "4*V"
      ]
    },
    {
      "cell_type": "markdown",
      "metadata": {
        "id": "YJ3jhljt2ta1"
      },
      "source": [
        "'python do not understand if directly mulitply like above example it simply concatinate it\n",
        "'even if below example same thing happen"
      ]
    },
    {
      "cell_type": "code",
      "execution_count": null,
      "metadata": {
        "id": "3sI3V_8L2ta2"
      },
      "outputs": [],
      "source": [
        "[1,2,3]+[7,8]"
      ]
    },
    {
      "cell_type": "code",
      "execution_count": null,
      "metadata": {
        "id": "uI-Jcpw42ta4"
      },
      "outputs": [],
      "source": [
        "w=[]\n",
        "for x in V:\n",
        "    w.append(x*4)\n",
        "print(w)"
      ]
    },
    {
      "cell_type": "code",
      "execution_count": null,
      "metadata": {
        "id": "QctiLv0U2ta5"
      },
      "outputs": [],
      "source": [
        "w=[4*x for x in V]\n",
        "print(w)"
      ]
    },
    {
      "cell_type": "markdown",
      "metadata": {
        "id": "vH9Mkczr2ta6"
      },
      "source": [
        "# Cartesian Product\n",
        "if a and b are two sets,\n",
        "then Cartesian produt,\n",
        "is sets of pairs (a,b)\n",
        "where 'a' is A and 'b' is B .\n",
        "\n",
        "ex: AxB = {(a,b) | a is A and b is B}"
      ]
    },
    {
      "cell_type": "code",
      "execution_count": null,
      "metadata": {
        "id": "T4WXrpTl2ta7"
      },
      "outputs": [],
      "source": [
        "A = [1,3,5,7]\n",
        "B = [2,4,6,8]\n",
        "cp = [(a,b) for a in A for b in B]\n",
        "print(cp)"
      ]
    },
    {
      "cell_type": "code",
      "execution_count": null,
      "metadata": {
        "id": "sIx0f-3b2ta8"
      },
      "outputs": [],
      "source": [
        "movies = [(\"Don\",1991),(\"Rocky\",2000),(\"RHTDM\",2004),(\"Rathstaan\",2007),(\"sherlock\",2010)]\n",
        "movies"
      ]
    },
    {
      "cell_type": "code",
      "execution_count": null,
      "metadata": {
        "id": "NMz-m4Ud2ta9"
      },
      "outputs": [],
      "source": [
        "Rmovies = [title for (title,year) in movies \n",
        "           if title.startswith(\"R\") and year >= 2000]\n",
        "print(Rmovies)\n"
      ]
    },
    {
      "cell_type": "code",
      "execution_count": null,
      "metadata": {
        "id": "lHweaUuq2ta-"
      },
      "outputs": [],
      "source": [
        "Rmm = []\n",
        "for title, year in movies:\n",
        "    if title.startswith(\"Ro\") and year >=2000:     \n",
        "        Rmm.append(title)\n",
        "print(Rmm)"
      ]
    },
    {
      "cell_type": "markdown",
      "metadata": {
        "id": "cgBrkuDK2ta_"
      },
      "source": [
        "#### in the above example rocky movie meets only 1 criteria that is \"RO\" if we write year>=2000 then it will print Rocky otherwise empty will come "
      ]
    },
    {
      "cell_type": "code",
      "execution_count": null,
      "metadata": {
        "id": "BXxHdMIF2tbA"
      },
      "outputs": [],
      "source": [
        "AlphaN=[\"398\",\"2626\",\"Aman\",\"Mashetty\"]\n",
        "dd= [int(s) for s in AlphaN if s.isdigit()]\n",
        "print(dd)"
      ]
    },
    {
      "cell_type": "code",
      "execution_count": null,
      "metadata": {
        "id": "WgHcCubp2tbA"
      },
      "outputs": [],
      "source": [
        "AlphaN=[\"398\",\"2626\",\"Aman\",\"Mashetty\"]\n",
        "ddd=[]\n",
        "for s in AlphaN:\n",
        "    if s.isdigit():\n",
        "        ddd.append(int(s))\n",
        "print(ddd)"
      ]
    },
    {
      "cell_type": "markdown",
      "metadata": {
        "id": "izwPS1py2tbB"
      },
      "source": [
        "# Let add a mobile color and models"
      ]
    },
    {
      "cell_type": "code",
      "execution_count": null,
      "metadata": {
        "id": "yG1gvP-v2tbC"
      },
      "outputs": [],
      "source": [
        "color = [\"Red\",\"Blue\",\"Orange\",\"Green\"]\n",
        "model = [\"12\",\"12pro\",\"12proMax\"]"
      ]
    },
    {
      "cell_type": "code",
      "execution_count": null,
      "metadata": {
        "id": "odZVZsMU2tbC"
      },
      "outputs": [],
      "source": [
        "cm = []\n",
        "for colors in color:\n",
        "    for models in model:\n",
        "         cm.append((colors,models))\n",
        "print(cm)"
      ]
    },
    {
      "cell_type": "code",
      "execution_count": null,
      "metadata": {
        "id": "Cd8rub7P2tbD"
      },
      "outputs": [],
      "source": [
        "cm = [(colors,models) for colors in color for models in model]\n",
        "print(cm)"
      ]
    },
    {
      "cell_type": "code",
      "execution_count": null,
      "metadata": {
        "id": "3u34Y0dN2tbE"
      },
      "outputs": [],
      "source": [
        "print(color)"
      ]
    },
    {
      "cell_type": "code",
      "execution_count": null,
      "metadata": {
        "id": "4tFC5M7r2tbE"
      },
      "outputs": [],
      "source": [
        "# concatinate is so simple with this trick\n",
        "color + model"
      ]
    },
    {
      "cell_type": "code",
      "execution_count": null,
      "metadata": {
        "id": "A8wagIYP2tbF"
      },
      "outputs": [],
      "source": [
        "# want to change the color or add a color in list below is the trick\n",
        "if 'Blue' in color:\n",
        "    print(\"purple\") #insted\n",
        "    "
      ]
    },
    {
      "cell_type": "code",
      "execution_count": null,
      "metadata": {
        "id": "FWa3muzP2tbG"
      },
      "outputs": [],
      "source": [
        "color = ['Blue',\n",
        " 'Green',\n",
        " 'Orange',\n",
        " 'Red',\n",
        " 'yellow']\n",
        "color"
      ]
    },
    {
      "cell_type": "code",
      "execution_count": null,
      "metadata": {
        "id": "gGbdgl1W2tbG"
      },
      "outputs": [],
      "source": [
        "# to Remove an color in the list\n",
        "color.remove(\"yellow\")\n",
        "color"
      ]
    },
    {
      "cell_type": "code",
      "execution_count": null,
      "metadata": {
        "id": "bj021H2Q2tbH"
      },
      "outputs": [],
      "source": [
        "#To add a value(color) in list just append\n",
        "# but below code is not meet the criteria\n",
        "color.append([\"Grey\",\"Purple\",\"pink\"])\n",
        "color"
      ]
    },
    {
      "cell_type": "code",
      "execution_count": null,
      "metadata": {
        "id": "YQbstWxk2tbI"
      },
      "outputs": [],
      "source": [
        "#To add a value(color) in list just append\n",
        "#problem with append it only takes one value at a time\n",
        "color + [\"grey\",\"black\",\"Pink\"]"
      ]
    },
    {
      "cell_type": "code",
      "execution_count": null,
      "metadata": {
        "id": "lOlGMZ9D2tbJ"
      },
      "outputs": [],
      "source": [
        "color = color\n",
        "print(color)"
      ]
    },
    {
      "cell_type": "code",
      "execution_count": null,
      "metadata": {
        "id": "rx9jK78C2tbJ"
      },
      "outputs": [],
      "source": [
        "for items in color:\n",
        "    print(items)"
      ]
    },
    {
      "cell_type": "code",
      "execution_count": null,
      "metadata": {
        "id": "5OJfXFUW2tbK"
      },
      "outputs": [],
      "source": [
        "#to copy of a list \n",
        "colorsss = color.copy()\n",
        "colorsss"
      ]
    },
    {
      "cell_type": "markdown",
      "metadata": {
        "id": "kw61iVta2tbK"
      },
      "source": [
        "# itertools.combinations: A Better Way to\n",
        "# Iterate Through a Pair of Values in a Python\n",
        "# List"
      ]
    },
    {
      "cell_type": "markdown",
      "metadata": {
        "id": "RPuQ04DB2tbL"
      },
      "source": [
        "## If you want to iterate through a pair of values in a list and the\n",
        "## order does not matter ((a,b) is the same as (b, a)), a naive\n",
        "## approach is to use two for-loops."
      ]
    },
    {
      "cell_type": "code",
      "execution_count": null,
      "metadata": {
        "id": "KBPWpbxQ2tbM"
      },
      "outputs": [],
      "source": [
        "num_list=[1,2,3]\n",
        "\n",
        "for i in num_list:\n",
        "    for j in num_list:\n",
        "        if i < j:\n",
        "            print((i,j))\n",
        "            #print((j,i))"
      ]
    },
    {
      "cell_type": "markdown",
      "metadata": {
        "id": "PhZJCDkN2tbM"
      },
      "source": [
        "## itertools.product: Nested For-Loops in a\n",
        "## Generator Expression\n",
        "\n",
        "itertools.product is more efficient than nested loop because\n",
        "product(A, B) returns the same as ((x,y) for x in A for y\n",
        "in B)."
      ]
    },
    {
      "cell_type": "code",
      "execution_count": null,
      "metadata": {
        "id": "Cu-bfx7J2tbN"
      },
      "outputs": [],
      "source": [
        "from itertools import product\n",
        "params = {\n",
        "\"learning_rate\": [1e-1, 1e-2, 1e-3],\n",
        "\"batch_size\": [16, 32, 64],\n",
        "}"
      ]
    },
    {
      "cell_type": "code",
      "execution_count": null,
      "metadata": {
        "id": "vjEvh8Od2tbO"
      },
      "outputs": [],
      "source": [
        "for vals in product(*params.values()):\n",
        "combination = dict(zip(params.keys(), vals))\n",
        "print(combination)"
      ]
    },
    {
      "cell_type": "markdown",
      "metadata": {
        "id": "38ufBqEP2tbO"
      },
      "source": [
        "# want to sort with last name"
      ]
    },
    {
      "cell_type": "code",
      "execution_count": null,
      "metadata": {
        "id": "vb-KVugZ2tbP"
      },
      "outputs": [],
      "source": [
        "Scifi_authors = [\"Aman Mashetty\",\"Vinod jante\",\"Ram Naresh\",\"Om swamy\"]"
      ]
    },
    {
      "cell_type": "code",
      "execution_count": null,
      "metadata": {
        "id": "W8gF3n-_2tbP"
      },
      "outputs": [],
      "source": [
        "Scifi_authors.sort(key = lambda name:name.split(\" \")[1].upper())\n",
        "Scifi_authors"
      ]
    },
    {
      "cell_type": "code",
      "execution_count": null,
      "metadata": {
        "id": "AcrqTHZH2tbQ"
      },
      "outputs": [],
      "source": [
        "Scifi_authors = [\"aman mashetty\",\"vinod jante\",\"ram naresh\",\"om swamy\"]\n",
        "Scifi_authors.sort(key = lambda x:x.split(\" \")[0].upper())"
      ]
    },
    {
      "cell_type": "code",
      "execution_count": null,
      "metadata": {
        "id": "Kv-lHaca2tbQ"
      },
      "outputs": [],
      "source": [
        "Scifi_authors"
      ]
    },
    {
      "cell_type": "code",
      "execution_count": null,
      "metadata": {
        "id": "2MtUz_Lh2tbR"
      },
      "outputs": [],
      "source": [
        "Fl_names=[\"Pradeep Biradar\",\"jeetu churasiya\", \"sachin tichkule\"]\n",
        "Fl_names"
      ]
    },
    {
      "cell_type": "code",
      "execution_count": null,
      "metadata": {
        "id": "6iSnihCq2tbR"
      },
      "outputs": [],
      "source": [
        "Fl_names.sort(key=lambda name:name.split (\" \")[-1].lower())\n",
        "Fl_names"
      ]
    },
    {
      "cell_type": "code",
      "execution_count": null,
      "metadata": {
        "id": "l_w7oJx22tbS"
      },
      "outputs": [],
      "source": [
        "Fname =  Fl_names + Scifi_authors\n",
        "Fname"
      ]
    },
    {
      "cell_type": "code",
      "execution_count": null,
      "metadata": {
        "id": "9K6FEETt2tbS"
      },
      "outputs": [],
      "source": [
        "Fname.sort(key=lambda name:name.split(\" \")[-1].lower())\n",
        "Fname"
      ]
    },
    {
      "cell_type": "markdown",
      "metadata": {
        "id": "ZkW2Ie7l2tbT"
      },
      "source": [
        "# Dhamaal movie comedy 😂"
      ]
    },
    {
      "cell_type": "code",
      "execution_count": null,
      "metadata": {
        "id": "I6GCp2OM2tbU"
      },
      "outputs": [],
      "source": [
        "Fname = ['Venu Gopal Aiyyar','Muttu swamy','Rajshekhera','yekka permpiraa','Chinna Swamy','Venu Gopal Aiyyar']\n",
        "Lname = ['Chinna Swamy','Venu Gopal Aiyyar','Muttu swamy','perambadur','Muttu swamy','shivavenkata']"
      ]
    },
    {
      "cell_type": "code",
      "execution_count": null,
      "metadata": {
        "id": "YKyOFt7D2tbU"
      },
      "outputs": [],
      "source": [
        "list(zip(Fname,Lname))"
      ]
    },
    {
      "cell_type": "code",
      "execution_count": null,
      "metadata": {
        "id": "jo92MKiC2tbV"
      },
      "outputs": [],
      "source": [
        ""
      ]
    },
    {
      "cell_type": "code",
      "execution_count": null,
      "metadata": {
        "id": "BQHJYuev2tbW"
      },
      "outputs": [],
      "source": [
        "list(zip(Fname,Scifi_authors))"
      ]
    },
    {
      "cell_type": "code",
      "execution_count": null,
      "metadata": {
        "id": "PEz1QfBB2tbW"
      },
      "outputs": [],
      "source": [
        "my_dict = {}\n",
        "for namef,namel in zip(Fname,Lname):\n",
        "    my_dict[namef]= namel\n",
        "    print(my_dict)\n"
      ]
    },
    {
      "cell_type": "code",
      "execution_count": null,
      "metadata": {
        "id": "1hspJql02tbX"
      },
      "outputs": [],
      "source": [
        "items = [(\"prod1\",10),(\"prod2\",20),(\"prod3\",30)]\n",
        "items"
      ]
    },
    {
      "cell_type": "code",
      "execution_count": null,
      "metadata": {
        "id": "gOVvZcyy2tbX"
      },
      "outputs": [],
      "source": [
        "price = []\n",
        "for item in items:\n",
        "    price.append(item[1])\n",
        "print(price)"
      ]
    },
    {
      "cell_type": "code",
      "execution_count": null,
      "metadata": {
        "id": "_SUbg2TF2tbY"
      },
      "outputs": [],
      "source": [
        "x=list(map(lambda price:price[1], items))\n",
        "print(x)"
      ]
    },
    {
      "cell_type": "code",
      "execution_count": null,
      "metadata": {
        "id": "0dM25AGg2tbY"
      },
      "outputs": [],
      "source": [
        "#saame thing with List comprehension\n",
        "xx = [item[1] for item in items]\n",
        "xx"
      ]
    },
    {
      "cell_type": "code",
      "execution_count": null,
      "metadata": {
        "id": "mrTzRMJF2tbZ"
      },
      "outputs": [],
      "source": [
        "y=list(map(lambda x:x[0], items))\n",
        "print(y)"
      ]
    },
    {
      "cell_type": "code",
      "execution_count": null,
      "metadata": {
        "id": "zSpTzvhz2tbZ"
      },
      "outputs": [],
      "source": [
        "#List = [[2,3,4],[1, 4, 16, 64],[3, 6, 9, 12]]\n",
        "List = [[2,3,5],[2,5]]\n",
        "# Sort each sublist\n",
        "sortList = lambda x: (sorted(i) for i in x)\n",
        "\n",
        "# get second largest number\n",
        "secondLargest = lambda x,j :[y[len(y)-2] for y in j(x)]\n",
        "res =  secondLargest(List, sortList)\n",
        "res\n"
      ]
    },
    {
      "cell_type": "code",
      "execution_count": null,
      "metadata": {
        "id": "T6SEZ4w72tba"
      },
      "outputs": [],
      "source": [
        "List = [[2,3,4],[1, 4, 16, 64],[3, 6, 9, 12]]\n",
        " \n",
        "# Sort each sublist\n",
        "sortList = lambda x: (sorted(i) for i in x)\n",
        "\n",
        "\n",
        "# Get the second largest element\n",
        "secondLargest = lambda x, f : [y[len(y)-2] for y in f(x)]\n",
        "res = secondLargest(List, sortList)\n",
        " \n",
        "print(res)"
      ]
    },
    {
      "cell_type": "code",
      "execution_count": null,
      "metadata": {
        "id": "idOtuzHj2tba"
      },
      "outputs": [],
      "source": [
        "tables = [lambda x=x: x*10 for x in range(1, 11)]\n",
        "\n",
        "for table in tables:\n",
        "    print(table())"
      ]
    },
    {
      "cell_type": "code",
      "execution_count": null,
      "metadata": {
        "id": "IDcZqIys2tbb"
      },
      "outputs": [],
      "source": [
        "Max = lambda a, b : a if a > b else b\n",
        " \n",
        "print(Max(1, 2))"
      ]
    },
    {
      "cell_type": "code",
      "execution_count": null,
      "metadata": {
        "id": "8Ie-vAbY2tbb"
      },
      "outputs": [],
      "source": [
        "# Python code to illustrate\n",
        "# filter() with lambda()\n",
        "xlist = [5, 6, 7 , 8, 22, 97, 54, 62, 77, 23, 73, 61]\n",
        "\n",
        "final_list = list(filter(lambda x: (x%2 != 0) , xlist))\n",
        "print(final_list)\n"
      ]
    },
    {
      "cell_type": "code",
      "execution_count": null,
      "metadata": {
        "id": "YdBQMZsw2tbc"
      },
      "outputs": [],
      "source": [
        "#Filter out only even number\n",
        "xlist = [1,2,3,7,8,9,1,10,11,15]\n",
        "final_l = list(filter(lambda x:(x%2==0) ,  xlist))\n",
        "final_l"
      ]
    },
    {
      "cell_type": "code",
      "execution_count": null,
      "metadata": {
        "id": "FjRmmCzB2tbc"
      },
      "outputs": [],
      "source": [
        "age = [12,15,18,19,22,26,28]\n",
        "above_18 = list(filter(lambda age: age>18 , age))\n",
        "above_18"
      ]
    },
    {
      "cell_type": "code",
      "execution_count": null,
      "metadata": {
        "id": "1s_3EaTI2tbd"
      },
      "outputs": [],
      "source": [
        "# With the help of list comprihension\n",
        "ages = [12,15,18,19,22,26,28]\n",
        "xx = [i for i in ages if i >= 15]\n",
        "xx"
      ]
    },
    {
      "cell_type": "code",
      "execution_count": null,
      "metadata": {
        "id": "OPvX8xuc2tbe"
      },
      "outputs": [],
      "source": [
        "# Python code to illustrate\n",
        "# map() with lambda()\n",
        "# to get double of a list.\n",
        "li = [5, 7, 22, 97, 54, 62, 77, 23, 73, 61]\n",
        "\n",
        "final_list = list(map(lambda x: x*2, li))\n",
        "print(final_list)\n"
      ]
    },
    {
      "cell_type": "code",
      "execution_count": null,
      "metadata": {
        "id": "JFgTQQRE2tbe"
      },
      "outputs": [],
      "source": [
        "# Python code to illustrate\n",
        "# map() with lambda()\n",
        "# to get double of a list.\n",
        "li = [5, 7, 22, 97, 54, 62, 77, 23, 73, 61]\n",
        "\n",
        "doubleX= list(map(lambda x : x*x, li))\n",
        "doubleX"
      ]
    },
    {
      "cell_type": "code",
      "execution_count": null,
      "metadata": {
        "id": "LgfSOzz-2tbf"
      },
      "outputs": [],
      "source": [
        "li = [5, 7, 22, 97, 54, 62, 77, 23, 73, 61]\n",
        "xlx = [x*2 for x in li]\n",
        "xlx"
      ]
    },
    {
      "cell_type": "code",
      "execution_count": null,
      "metadata": {
        "id": "Z7Ax8e012tbf"
      },
      "outputs": [],
      "source": [
        "# Python program to demonstrate\n",
        "# use of lambda() function\n",
        "# with map() function\n",
        "animals = ['dog', 'cat', 'parrot', 'rabbit']\n",
        "\n",
        "# here we intend to change all animal names\n",
        "# to upper case and return the same\n",
        "#uppered_animals = list(map(lambda animal: str.capitalize(animal), animals))\n",
        "La_Capital = list(map(lambda name : str.capitalize(name),animals))\n",
        "#print(uppered_animals)\n",
        "print(La_Capital)"
      ]
    },
    {
      "cell_type": "code",
      "execution_count": null,
      "metadata": {
        "id": "qA4V7I6r2tbg"
      },
      "outputs": [],
      "source": [
        "animals = ['dog', 'cat', 'parrot', 'rabbit']\n",
        "lcx = [name.capitalize() for name in animals]\n",
        "lcx\n",
        "\n",
        "#namess = [name.upper() for name in fnames]\n",
        "#print(namess)"
      ]
    },
    {
      "cell_type": "code",
      "execution_count": null,
      "metadata": {
        "id": "I08EWwUD2tbh"
      },
      "outputs": [],
      "source": [
        "def mx(x,y):\n",
        "    if x> y:\n",
        "     return x\n",
        "    else:\n",
        "        return y\n",
        "print(mx(7,5))"
      ]
    },
    {
      "cell_type": "code",
      "execution_count": null,
      "metadata": {
        "id": "pcxpO6ZI2tbh"
      },
      "outputs": [],
      "source": [
        "# Lambda function \n",
        "H_num = lambda x,z:x if x > z else z\n",
        "print(H_num(8,10))"
      ]
    },
    {
      "cell_type": "code",
      "execution_count": null,
      "metadata": {
        "id": "1kraClMW2tbi"
      },
      "outputs": [],
      "source": [
        "xx=lambda x,y:x if x>y else y\n",
        "print(xx(8,7))"
      ]
    },
    {
      "cell_type": "code",
      "execution_count": null,
      "metadata": {
        "id": "h_4W2kgV2tbi"
      },
      "outputs": [],
      "source": [
        "class portfolio:\n",
        "    def __init__(self):\n",
        "        self.holdings = {}\n",
        "        \n",
        "    def buy(self,ticker,shares):\n",
        "        self.holdings[ticker]=self.holdings.get(ticker,0)+shares\n",
        "        \n",
        "    def sell(self,ticker,shares):\n",
        "        self.holdings[ticker]=self.holdings.get(ticker,0)-shares\n",
        "        \n",
        "    def __iter__(self):\n",
        "        return iter(self.holdings.items())\n",
        "    \n",
        "p=portfolio()\n",
        "p.buy('Alpha',15)\n",
        "p.buy('beta',25)\n",
        "p.buy('gamma',35)\n",
        "p.buy('delta',40)\n",
        "\n",
        "for (ticker,shares) in p:\n",
        "    print(ticker,shares)"
      ]
    },
    {
      "cell_type": "code",
      "execution_count": null,
      "metadata": {
        "id": "LaXUno1d2tbj"
      },
      "outputs": [],
      "source": [
        "p.sell('Alpha',10)\n",
        "for(ticker,shares)in p:\n",
        "    print(ticker,shares)"
      ]
    },
    {
      "cell_type": "markdown",
      "metadata": {
        "id": "x7HOKaR42tbk"
      },
      "source": [
        "# Cards and combo"
      ]
    },
    {
      "cell_type": "code",
      "execution_count": null,
      "metadata": {
        "id": "1CS43bit2tbk"
      },
      "outputs": [],
      "source": [
        "import itertools\n",
        "\n",
        "ranks =  list(range(2,11))+['J','K','Q','A']\n",
        "ranks = [str(rank) for rank in ranks]"
      ]
    },
    {
      "cell_type": "code",
      "execution_count": null,
      "metadata": {
        "id": "Iy4IHXE32tbl"
      },
      "outputs": [],
      "source": [
        "print(ranks)"
      ]
    },
    {
      "cell_type": "code",
      "execution_count": null,
      "metadata": {
        "id": "EtMME8Mw2tbl"
      },
      "outputs": [],
      "source": [
        "suits = ['hearts','shades','daimonds','spades']\n",
        "deck = [card for card in itertools.product(ranks,suits)]\n",
        "\n",
        "hands = [hand for hand in itertools.combinations(deck,3)]\n",
        "hands2 = [hands for hand in itertools.combinations(deck,2)]\n",
        "hands4 = [hands for hand in itertools.combinations(deck,4)]\n",
        "\n",
        "print(f\"the number of 3-card poker hands is {len(hands)}.\")\n",
        "print(f\"the number of 2-card poker hand is {len(hands2)}.\")\n",
        "print(f\"the number of 4-card poker hand is {len(hands4)}.\")"
      ]
    },
    {
      "cell_type": "code",
      "execution_count": null,
      "metadata": {
        "id": "_9tKqaKu2tbm"
      },
      "outputs": [],
      "source": [
        "# recursive function\n",
        "def factorial(x):\n",
        "    #this is recursive function\n",
        "    #to find the factorial of integers\n",
        "    \n",
        "    if x==1:\n",
        "        return 1\n",
        "    else:\n",
        "        return(x*factorial(x-1))\n",
        "\n",
        "num = 7\n",
        "print(\"the factorial of\", num, \"is\",factorial(num))"
      ]
    },
    {
      "cell_type": "markdown",
      "metadata": {
        "id": "cm9UM-oc2tbn"
      },
      "source": [
        "# Fibonacci number"
      ]
    },
    {
      "cell_type": "code",
      "execution_count": null,
      "metadata": {
        "id": "lUbDLQO82tbn"
      },
      "outputs": [],
      "source": [
        "def fibonacci (n):\n",
        "    if n==1:\n",
        "      return 1\n",
        "    elif n==2:\n",
        "     return 1\n",
        "    elif n > 2:\n",
        "     return fibonacci (n-1) + fibonacci(n-2)\n",
        "    \n",
        "for n in range(1,15):\n",
        "    print(n, \":\",fibonacci(n))"
      ]
    },
    {
      "cell_type": "code",
      "execution_count": null,
      "metadata": {
        "id": "3J54JVoI2tbo"
      },
      "outputs": [],
      "source": [
        "# New way af fibonacci\n",
        "def fib(n):\n",
        "\n",
        "    a=0\n",
        "    b=1\n",
        "    if n==1:\n",
        "        print(a)\n",
        "    else:\n",
        "        print(a)\n",
        "        print(b)\n",
        "        \n",
        "        for i in range (1,n):\n",
        "            c = a + b\n",
        "            a=b\n",
        "            b=c\n",
        "            print(c)\n",
        "fib(11)"
      ]
    },
    {
      "cell_type": "code",
      "execution_count": null,
      "metadata": {
        "id": "aCWJiyWR2tbo"
      },
      "outputs": [],
      "source": [
        "def fibonacci(n):  \n",
        "    if n==1:\n",
        "     return 1\n",
        "    elif n==2:\n",
        "     return 1\n",
        "    elif n > 2:\n",
        "     return fibonacci(n-1)+fibonacci(n-2)\n",
        "    \n",
        "for n in range(1,11):\n",
        "    print(n, \":\",fibonacci(n))"
      ]
    },
    {
      "cell_type": "markdown",
      "metadata": {
        "id": "IGPg9PE82tbp"
      },
      "source": [
        "## we insted use the memorization to run the fibonacci sequennce more fastly"
      ]
    },
    {
      "cell_type": "code",
      "execution_count": null,
      "metadata": {
        "id": "2m2GoaUN2tbp"
      },
      "outputs": [],
      "source": [
        "fibonacci_cache = {}\n",
        "def fibonacci(n):\n",
        "    #if we have cached the value, then return it\n",
        "    if n in fibonacci_cache:\n",
        "        return fibonacci_cache[n]\n",
        "    #compute the Nth term\n",
        "    if n==1:\n",
        "        value =1\n",
        "    elif n==2:\n",
        "        value=1\n",
        "    elif n > 2:\n",
        "        value = fibonacci(n-1)+fibonacci(n-2)\n",
        "        \n",
        "    #Cache the value return it\n",
        "    fibonacci_cache[n] = value\n",
        "    return value\n",
        "    \n"
      ]
    },
    {
      "cell_type": "code",
      "execution_count": null,
      "metadata": {
        "id": "vVybaYRm2tbq"
      },
      "outputs": [],
      "source": [
        "for n in range(1,101):\n",
        "    print(n, \":\",fibonacci(n))"
      ]
    },
    {
      "cell_type": "markdown",
      "metadata": {
        "id": "9y_Oy2jV2tbr"
      },
      "source": [
        "# #even more simplify the with function lru_cache\n",
        "### LRU = Least Recently Used Cache\n",
        "\n",
        "need to run the lru cache befor the function need to right \n",
        "@lru_cache(maxsize=1000)"
      ]
    },
    {
      "cell_type": "code",
      "execution_count": null,
      "metadata": {
        "id": "zSJnrwRl2tbr"
      },
      "outputs": [],
      "source": [
        "from functools import lru_cache\n",
        "@lru_cache(maxsize=1000)\n",
        "def fibonacci(n):\n",
        "    if n==1:\n",
        "        return 1\n",
        "    elif n==2:\n",
        "        return 1\n",
        "    elif n > 2:\n",
        "        return fibonacci(n-1)+fibonacci(n-2)\n",
        "\n",
        "for n in range(1,500):\n",
        "    print(n, \":\", fibonacci(n))\n"
      ]
    },
    {
      "cell_type": "markdown",
      "metadata": {
        "id": "ho9MBLHw2tbs"
      },
      "source": [
        "what if we type 2.1 as n value / string / negtive value need to fix it "
      ]
    },
    {
      "cell_type": "code",
      "execution_count": null,
      "metadata": {
        "id": "BCFEcDNU2tbt"
      },
      "outputs": [],
      "source": [
        "@lru_cache(maxsize=1000)\n",
        "def fibonacci(n):\n",
        "    #check the value is positive integer\n",
        "    if type(n) != int:\n",
        "      raise TypeError(\"n must be a positive int\")\n",
        "    if n < 1:\n",
        "      raise ValueError(\"n must be positive int\")\n",
        "        \n",
        "    #compute the Nth Term\n",
        "    if n==1:\n",
        "      return 1\n",
        "    elif n==2:\n",
        "      return 1\n",
        "    elif n > 2:\n",
        "      return fibonacci(n-1)+fibonacci(n-2)\n",
        "    print(fibonacci(2.3))\n",
        "        \n",
        "    "
      ]
    },
    {
      "cell_type": "markdown",
      "metadata": {
        "id": "6zju7nDQ2tbt"
      },
      "source": [
        " # Random Walk \n",
        " # Interview Questions"
      ]
    },
    {
      "cell_type": "code",
      "execution_count": null,
      "metadata": {
        "id": "aK1hyOtu2tbu"
      },
      "outputs": [],
      "source": [
        "import random\n",
        "\n",
        "def random_walk(n):\n",
        " #return coardinates after 'n' block random walk\"\"\n",
        " x = 0\n",
        " y = 0\n",
        " for i in range(n):\n",
        "   step = random.choice(['N','S','E','W'])\n",
        "   if step == 'N':\n",
        "      y = y + 1\n",
        "   elif step == 'S':\n",
        "      y= y - 1\n",
        "   elif step == 'E':\n",
        "      x=x+1\n",
        "   else:\n",
        "     x= x-1\n",
        " return(x,y)\n",
        "\n",
        "        "
      ]
    },
    {
      "cell_type": "code",
      "execution_count": null,
      "metadata": {
        "id": "_kK8qjA02tbv"
      },
      "outputs": [],
      "source": [
        "for i in range(15):\n",
        "  walk = random_walk(10)\n",
        "  print(walk, \"distance from home = \",\n",
        "        abs(walk[0]) + abs(walk[1]))"
      ]
    },
    {
      "cell_type": "code",
      "execution_count": null,
      "metadata": {
        "id": "Zjn9bpm42tbv"
      },
      "outputs": [],
      "source": [
        "# simplified way\n",
        "import random\n",
        "\n",
        "def random_walk2(n):\n",
        "    x,y = 0,0\n",
        "    for i in range(n):\n",
        "        (dx,dy) = random.choice([(0,1),(0,-1),(1,0),(-1,0)])\n",
        "        x += dx\n",
        "        y += dy\n",
        "    return (x,y)\n",
        "number_of_walk = 100\n",
        "for walk_length in range(1,31):\n",
        " no_transport = 0 # number of walks 4 or fewer blocks from home\n",
        " for i in range(number_of_walk):\n",
        "        (x, y) = random_walk2(walk_length)\n",
        "        distance = abs(x) + abs(y)\n",
        "        if distance <= 4:\n",
        "            no_transport += 1\n",
        "        no_transport_percentage = float(no_transport) / number_of_walk\n",
        "        print(\"walk size = \", walk_length,\n",
        "              \" / % of no transport = \", 100*no_transport_percentage)"
      ]
    },
    {
      "cell_type": "code",
      "execution_count": null,
      "metadata": {
        "id": "2wsDtW9L2tbw"
      },
      "outputs": [],
      "source": [
        "import pandas as pd\n",
        "import numpy as np"
      ]
    },
    {
      "cell_type": "code",
      "execution_count": null,
      "metadata": {
        "id": "uzt2eD7W2tbw"
      },
      "outputs": [],
      "source": [
        "df = pd.read_csv(\"D:/Machine/titanic_data.csv\")\n",
        "df.head()"
      ]
    },
    {
      "cell_type": "code",
      "execution_count": null,
      "metadata": {
        "id": "uDk3Y9Rc2tbx"
      },
      "outputs": [],
      "source": [
        "#convert the categoerical variable into factor  \n",
        "df['sex_num'] = df.Sex.map({'female': 0,'male':1})\n",
        "df.loc[0:4, ['Sex','sex_num']]"
      ]
    },
    {
      "cell_type": "code",
      "execution_count": null,
      "metadata": {
        "id": "6YTbBLDM2tby"
      },
      "outputs": [],
      "source": [
        "df['name_len'] = df.Name.apply(len)\n",
        "df.loc[0:4,['Name','name_len']]"
      ]
    },
    {
      "cell_type": "markdown",
      "metadata": {
        "id": "HDAvV_EN2tby"
      },
      "source": [
        "# Fare round up with the help of celing in numpy library"
      ]
    },
    {
      "cell_type": "code",
      "execution_count": null,
      "metadata": {
        "id": "gtb5Dv5e2tbz"
      },
      "outputs": [],
      "source": [
        "df['fare_ceil'] = df.Fare.apply(np.ceil)\n",
        "df.loc[0:4,['Fare','fare_ceil']]"
      ]
    },
    {
      "cell_type": "code",
      "execution_count": null,
      "metadata": {
        "id": "M53fjSxf2tb1"
      },
      "outputs": [],
      "source": [
        "df.Name.str.split(\",\").head()"
      ]
    },
    {
      "cell_type": "code",
      "execution_count": null,
      "metadata": {
        "id": "-dd6a6aa2tb2"
      },
      "outputs": [],
      "source": [
        "# Create a function\n",
        "def get_element(my_list,position):\n",
        "    return my_list[position]"
      ]
    },
    {
      "cell_type": "code",
      "execution_count": null,
      "metadata": {
        "id": "bo2dGmry2tb3"
      },
      "outputs": [],
      "source": [
        "df.Name.str.split(\",\").apply(get_element,position = 0).head()"
      ]
    },
    {
      "cell_type": "code",
      "execution_count": null,
      "metadata": {
        "id": "KBdHFH_C2tb3"
      },
      "outputs": [],
      "source": [
        "# lambda function\n",
        "df.Name.str.split(\",\").apply(lambda x:x[0]).head()"
      ]
    },
    {
      "cell_type": "code",
      "execution_count": null,
      "metadata": {
        "id": "3P8A2d1N2tb4"
      },
      "outputs": [],
      "source": [
        "df.dtypes"
      ]
    },
    {
      "cell_type": "code",
      "execution_count": null,
      "metadata": {
        "id": "He_62UTD2tb4"
      },
      "outputs": [],
      "source": [
        "# to get max value in the column / row axis = 0/1\n",
        "df.loc[:,\"SibSp\":\"Parch\"].apply(max,axis=0)\n"
      ]
    },
    {
      "cell_type": "code",
      "execution_count": null,
      "metadata": {
        "id": "R7LH4V2J2tb5"
      },
      "outputs": [],
      "source": [
        "alist = [4,8,12,16]\n",
        "alist[1:4] = [20,24,28]\n",
        "print(alist)"
      ]
    },
    {
      "cell_type": "code",
      "execution_count": null,
      "metadata": {
        "id": "W3QAy8rI2tb6"
      },
      "outputs": [],
      "source": [
        "alist.append(299)\n",
        "print(alist)"
      ]
    },
    {
      "cell_type": "code",
      "execution_count": null,
      "metadata": {
        "id": "RYXv3d9s2tb6"
      },
      "outputs": [],
      "source": [
        "# to remove perticular array .pop(index num) or .remove(index num)\n",
        "alist.pop(4)\n",
        "alist"
      ]
    },
    {
      "cell_type": "markdown",
      "metadata": {
        "id": "jaswo-vZ2tb7"
      },
      "source": [
        "# **Hotel Resturent Bill**"
      ]
    },
    {
      "cell_type": "code",
      "execution_count": null,
      "metadata": {
        "id": "ofa9xrD_2tb7"
      },
      "outputs": [],
      "source": [
        "print (\"Welcome to My Dhaaba\")\n",
        "sum = 0\n",
        "dict = {\"Paneer\" : 200, \"Lassi\":80, \"Tandoori\" : 10, \"Naan\" : 25, \"rice\" : 100}\n",
        "lst = list(dict.keys())\n",
        "\n",
        "while True:\n",
        "    print(\"Paneer (200 rs)\" )\n",
        "    print(\"Lassi (80 rs)\" )\n",
        "    print(\"Tandoori (10 rs)\" )\n",
        "    print(\"Naan (25 rs)\" )\n",
        "    print(\"rice (200 rs)\" )\n",
        "    print (\"Press e for Exit\")\n",
        "    order = input(\"Enter your order\")\n",
        "    if order in lst:\n",
        "        sum = sum+dict[order]\n",
        "    elif order =='e':\n",
        "        break\n",
        "    else:\n",
        "        print(\"Enter right item\")\n",
        "        \n",
        "print(\"your total bill is=\",sum)\n"
      ]
    },
    {
      "cell_type": "markdown",
      "metadata": {
        "id": "fKYBARn22tb8"
      },
      "source": [
        "# ***Income Tax Calculation***"
      ]
    },
    {
      "cell_type": "code",
      "execution_count": null,
      "metadata": {
        "id": "4HQMr2is2tb8",
        "outputId": "8bfad27c-0c74-42fa-bda0-aca9ea577cdb"
      },
      "outputs": [
        {
          "name": "stdout",
          "output_type": "stream",
          "text": [
            "Enter amount:550000\n",
            "income tax =  247500.0\n",
            "Health & Cess =  9900.0\n",
            "Total Tax is :  257400.0\n"
          ]
        }
      ],
      "source": [
        "income = int(input(\"Enter amount:\",))\n",
        "tax=0\n",
        "cess=0\n",
        "\n",
        "if income <= 250000:\n",
        "    tax = 0\n",
        "elif income <=500000:\n",
        "    tax=(income - 250000)*0.1\n",
        "elif income <=100000:\n",
        "    tax=12500+(income-500000)*0.2\n",
        "else:\n",
        "    tax = 12500+100000+(income - 100000) *0.3\n",
        "cess = tax*0.04\n",
        "tax_total= tax + cess\n",
        "print (\"income tax = \",tax)\n",
        "print (\"Health & Cess = \",cess)\n",
        "print (\"Total Tax is : \",tax_total)"
      ]
    },
    {
      "cell_type": "code",
      "execution_count": null,
      "metadata": {
        "id": "XVq1BdB-2tb_",
        "outputId": "a8edbb10-08a3-4569-894b-902893d526a6"
      },
      "outputs": [
        {
          "name": "stdout",
          "output_type": "stream",
          "text": [
            "How much is meal cost:1000\n",
            "Your total meal cost including tax is :$ 1160.00\n"
          ]
        }
      ],
      "source": [
        "meal = int(input(\"How much is meal cost:\",))\n",
        "total_cost = meal + (meal * .06) + (meal *  .10)\n",
        "print (\"Your total meal cost including tax is :$%  .2f\" % total_cost)"
      ]
    },
    {
      "cell_type": "code",
      "execution_count": null,
      "metadata": {
        "id": "Rrk8SDld2tb_"
      },
      "outputs": [],
      "source": [
        "# Function for outlier\n",
        "def number_of_outlier(df):\n",
        "    df.select_dtypes(exclude='object')\n",
        "    \n",
        "    q1=df.quantile(0.25)\n",
        "    q3=df.quantile(0.75)\n",
        "    IQR =  q3 - q1\n",
        "    \n",
        "    return(df < (q1-1.5*IQR))|(df>(q3+1.5*IQR))).sum()    \n"
      ]
    },
    {
      "cell_type": "code",
      "execution_count": null,
      "metadata": {
        "id": "DzzUcDpG2tcA"
      },
      "outputs": [],
      "source": [
        "def lower_upper_range(datacolumn):\n",
        "    sorted(datacolumn)\n",
        "    Q1,Q3 = np.percentile(datacolumn)\n",
        "    IQR = Q3 - Q1\n",
        "    lower_range = Q1 -(1.5*IQR)\n",
        "    upper_range = Q3 +(1.5*IQR)\n",
        "    return lower_range,upper_range\n",
        "\n",
        "for col in columns:\n",
        "    lowerbound,upperbound = lower_upper_range(df[col])\n",
        "    df[col]=np.clip(df[col],a_min=lowerbound,a_max=upperbound)"
      ]
    },
    {
      "cell_type": "code",
      "execution_count": null,
      "metadata": {
        "id": "NjeiKEXL2tcB"
      },
      "outputs": [],
      "source": [
        "df['carname'] = df['carname'].str.split().str[0]\n",
        "print(df['carname'].unique())"
      ]
    },
    {
      "cell_type": "code",
      "execution_count": null,
      "metadata": {
        "id": "fclurxIP2tcB"
      },
      "outputs": [],
      "source": [
        "df.loc[df['CarName'] == 'maxda','CarName'] = 'mazda'\n",
        "df.loc[df['CarName'] == 'Nissan','CarName'] = 'nissan'\n",
        "df.loc[df['CarName'] == 'toyouta','CarName'] = 'toyata'\n"
      ]
    },
    {
      "cell_type": "code",
      "execution_count": null,
      "metadata": {
        "id": "g19ARKSK2tcC"
      },
      "outputs": [],
      "source": [
        "df.loc[df.duplicated()]"
      ]
    },
    {
      "cell_type": "code",
      "execution_count": null,
      "metadata": {
        "id": "Qbkzpk2k2tcD"
      },
      "outputs": [],
      "source": [
        "df.drop_duplicates()"
      ]
    },
    {
      "cell_type": "code",
      "execution_count": null,
      "metadata": {
        "id": "tH_GYG7P2tcD"
      },
      "outputs": [],
      "source": [
        "# Dictionary value can be iterated over\n",
        "car = {\"wheels\" : 4, \"color\":\"red\"}\n",
        "\n",
        "for key in car:\n",
        "    #for val in car:\n",
        "    print(car)\n",
        "    #print (key + \": \" +car[key])"
      ]
    },
    {
      "cell_type": "code",
      "execution_count": null,
      "metadata": {
        "id": "XYKWQxa_2tcF"
      },
      "outputs": [],
      "source": [
        ""
      ]
    },
    {
      "cell_type": "code",
      "execution_count": null,
      "metadata": {
        "id": "noNVfJtw2tcF"
      },
      "outputs": [],
      "source": [
        "a=[1,2,3,4,5]\n",
        "b=0\n",
        "for x in a:\n",
        "    b += b if b % 2 else x\n",
        "    b =  not b\n",
        "print(b)"
      ]
    },
    {
      "cell_type": "code",
      "execution_count": null,
      "metadata": {
        "id": "MfJDbfDc2tcG"
      },
      "outputs": [],
      "source": [
        "# converting the colummn value of pllayer and team into lower case\n",
        "columns = df.select_dtypes(include = 'object')\n",
        "columns = list(columns,columns)\n",
        "for i in columns:\n",
        "    df[i]=df[i].str.lower()\n",
        "df\n"
      ]
    },
    {
      "cell_type": "code",
      "execution_count": null,
      "metadata": {
        "id": "U7WUEbof2tcH"
      },
      "outputs": [],
      "source": [
        "names = [\"mariya\",\"BATMAN\",\"spongebob\"]\n",
        "new_names = []\n",
        "\n",
        "for n in names:\n",
        "    if n.islower():\n",
        "        n = n.capitalize()\n",
        "    else:\n",
        "        n = 'Aman' + n.capitalize()\n",
        "    new_names.append(n)\n",
        "names = new_names\n",
        "print(names)"
      ]
    },
    {
      "cell_type": "code",
      "execution_count": null,
      "metadata": {
        "id": "cEBMhzb92tcH"
      },
      "outputs": [],
      "source": [
        "#list comprehension\n",
        "names = [\"mahadev\",\"MASHETTY\",'dhannur']\n",
        "[\n",
        "n.capitalize() if n.islower()\n",
        "else \"Aman \" + n.capitalize()\n",
        "for n in names\n",
        "]"
      ]
    },
    {
      "cell_type": "code",
      "execution_count": null,
      "metadata": {
        "id": "nYLiiyN12tcI"
      },
      "outputs": [],
      "source": [
        "my_string = \"hi442nm233ag2\"\n",
        "new_string = \"\".join(\n",
        "[\"d\" if i==\"4\"\n",
        "else \"e\" if i==\"2\"\n",
        "else \"s\" if i==\"3\"\n",
        "else i \n",
        "for i in my_string]\n",
        ")\n",
        "\n",
        "print(new_string)"
      ]
    },
    {
      "cell_type": "code",
      "execution_count": null,
      "metadata": {
        "id": "giei9F-T2tcJ"
      },
      "outputs": [],
      "source": [
        "fnames = [\"Vinod\",\"mahadev\",\"bhadru\"]\n",
        "new_n = []\n",
        "\n",
        "for name in fnames:\n",
        "    name = name.upper()\n",
        "    new_n.append(fnames)\n",
        "print(new_n)"
      ]
    },
    {
      "cell_type": "code",
      "execution_count": null,
      "metadata": {
        "id": "vOtqHDiw2tcK"
      },
      "outputs": [],
      "source": [
        "fruits = ['apples','baNana','StrAberries']\n",
        "new_fruits=[]\n",
        "\n",
        "for fruit in fruits:\n",
        "    fruit = fruit.upper()\n",
        "    new_fruits.append(fruit)\n",
        "\n",
        "fruits = new_fruits\n",
        "print(fruits)"
      ]
    },
    {
      "cell_type": "code",
      "execution_count": null,
      "metadata": {
        "id": "YnXzPKH72tcK"
      },
      "outputs": [],
      "source": [
        "namess = [name.upper() for name in fnames]\n",
        "print(namess)"
      ]
    },
    {
      "cell_type": "code",
      "execution_count": null,
      "metadata": {
        "id": "hXTZGVBg2tcL"
      },
      "outputs": [],
      "source": [
        "#conditional\n",
        "\n",
        "bitss = [\"False\",\"True\",\"False\",\"False\",\"True\",\"False\",\"False\",\"True\"]\n",
        "new_bitss = []\n",
        "\n",
        "for b in bitss:\n",
        "    if b==True:\n",
        "        new_bitss.append(1)\n",
        "    else:\n",
        "        new_bitss.append(2)\n",
        "print(new_bitss)"
      ]
    },
    {
      "cell_type": "code",
      "execution_count": null,
      "metadata": {
        "id": "dSfut_LR2tcL"
      },
      "outputs": [],
      "source": [
        "sb = [1 if b == True else 0 for b in bitss]\n",
        "print(sb)"
      ]
    },
    {
      "cell_type": "code",
      "execution_count": null,
      "metadata": {
        "id": "NNKIhpMS2tcN"
      },
      "outputs": [],
      "source": [
        "my_string = \"HelloMyNameIsAman\"\n",
        "my_string =\"\".join(\n",
        "    [i if i.islower() else \" \"+ i.lower() if i in [\"N\",\"I\"] else \" \"+ i for i in my_string]\n",
        ")[1:]\n",
        "print(my_string)"
      ]
    },
    {
      "cell_type": "code",
      "execution_count": null,
      "metadata": {
        "id": "e9KCNfQD2tcN"
      },
      "outputs": [],
      "source": [
        "# we cannot use elseif in lC"
      ]
    },
    {
      "cell_type": "code",
      "execution_count": null,
      "metadata": {
        "id": "n1wbzDsI2tcO"
      },
      "outputs": [],
      "source": [
        "import os\n",
        "import pandas as pd"
      ]
    },
    {
      "cell_type": "code",
      "execution_count": null,
      "metadata": {
        "id": "BrIYf9k62tcP"
      },
      "outputs": [],
      "source": [
        "# converting the xlsx file into csv\n",
        "# csv consist only one sheet not more than that\n",
        "path = \"F:\\\\python_Csv\"\n",
        "files = os.listdir(path)\n",
        "print(files)"
      ]
    },
    {
      "cell_type": "markdown",
      "metadata": {
        "id": "W6EReHss2tcP"
      },
      "source": [
        "for eachfile in files:\n",
        "    if eachfile.endswith(\".xlsx\"):\n",
        "        xlfile = pd.ExcelFile(eachfile)\n",
        "        sheet = xlfile.sheet_names\n",
        "        print(sheet)\n"
      ]
    },
    {
      "cell_type": "code",
      "execution_count": null,
      "metadata": {
        "id": "SyzHAB_Z2tcQ"
      },
      "outputs": [],
      "source": [
        "with open('South_Region.xlsx','r') as file:\n",
        "    employee = .reader(file)\n",
        "\n",
        "print(employee) "
      ]
    },
    {
      "cell_type": "code",
      "execution_count": null,
      "metadata": {
        "id": "b_r35GlU2tcQ"
      },
      "outputs": [],
      "source": [
        "#import glob\n",
        "import pandas as pd\n",
        "import os\n",
        "folder=r'F:\\\\python_Csv'\n",
        "df_total = pd.DataFrame()\n",
        "files=os.listdir(folder)\n",
        "files\n",
        "for file in files:                        \n",
        "    if file.endswith('.xlsx'):\n",
        "        excel_file = pd.ExcelFile(file)\n",
        "        sheets = excel_file.sheet_names\n",
        "        for sheet in sheets:               \n",
        "            df = excel_file.parse(sheet_name = sheet)\n",
        "            df_total = df_total.append(df)\n",
        "df_total.to_csv('combined_file.csv',index=False)"
      ]
    },
    {
      "cell_type": "code",
      "execution_count": null,
      "metadata": {
        "id": "FnqJ6skE2tcR"
      },
      "outputs": [],
      "source": [
        "os.getcwd()"
      ]
    },
    {
      "cell_type": "code",
      "execution_count": null,
      "metadata": {
        "id": "6_kgVetB2tcS"
      },
      "outputs": [],
      "source": [
        "os.chdir(\"F:\\\\python_Csv\")"
      ]
    },
    {
      "cell_type": "code",
      "execution_count": null,
      "metadata": {
        "id": "QoE8LfOj2tcS"
      },
      "outputs": [],
      "source": [
        "import pandas as pd\n",
        "import os\n",
        "path = \"F:\\\\python_Csv\"\n",
        "df_total = pd.DataFrame()\n",
        "files = os.listdir(path)\n",
        "for eachfile in files:\n",
        "    if eachfile.endswith(\".xlsx\"):\n",
        "        cleanfilename = eachfile.replace(\".xlsx\",\"\")\n",
        "        xlfile = pd.ExcelFile(eachfile)\n",
        "        sheets = xlfile.sheet_names\n",
        "        #print(sheets)\n",
        "        for eachsheet in sheets:\n",
        "            sheetdata = xlfile.parse(eachsheet)\n",
        "            #sheetname = eachfile + \"_\" + eachsheet + \".csv\"\n",
        "            #print(sheetname)\n",
        "            #sheetname = cleanfilename + \"_\" + eachsheet + \".csv\"\n",
        "            #print(sheetname)\n",
        "            #sheetdata.to_csv(sheetname,index = False)\n",
        "            df_total = df_total.append(sheetdata)\n",
        "            df_total.to_csv('comb.csv')"
      ]
    },
    {
      "cell_type": "code",
      "execution_count": null,
      "metadata": {
        "id": "7oCenpzW2tcT"
      },
      "outputs": [],
      "source": [
        "#import glob as glob\n",
        "from glob import glob"
      ]
    },
    {
      "cell_type": "code",
      "execution_count": null,
      "metadata": {
        "id": "w8ZZaZ9S2tcU"
      },
      "outputs": [],
      "source": [
        "data_files = sorted(glob(\"F:/python_Csv/*.csv\")) \n",
        "data_files"
      ]
    },
    {
      "cell_type": "code",
      "execution_count": null,
      "metadata": {
        "id": "48j_s_iy2tcU"
      },
      "outputs": [],
      "source": [
        "m_data = pd.concat((pd.read_csv(file).assign(filename =file)\n",
        "                   for file in data_files),ignore_index=True)\n",
        "m_data"
      ]
    },
    {
      "cell_type": "code",
      "execution_count": null,
      "metadata": {
        "id": "0dlHLYBm2tcV"
      },
      "outputs": [],
      "source": [
        "mergedata = pd.concat(pd.read_csv(datafile).assign(sourcefilename = datafile)\n",
        "                     for datafile in data_files)"
      ]
    },
    {
      "cell_type": "code",
      "execution_count": null,
      "metadata": {
        "id": "D7whY6RT2tcV"
      },
      "outputs": [],
      "source": [
        "mergedata"
      ]
    },
    {
      "cell_type": "code",
      "execution_count": null,
      "metadata": {
        "id": "Wn2HNC3p2tcW"
      },
      "outputs": [],
      "source": [
        "mergedata.to_csv('Masterfile.csv')"
      ]
    },
    {
      "cell_type": "code",
      "execution_count": null,
      "metadata": {
        "id": "Ot2NTIIL2tcW"
      },
      "outputs": [],
      "source": [
        "import pandas as pd\n",
        "\n",
        "df = pd.read_html(\"https://en.wikipedia.org/wiki/List_of_states_and_union_territories_of_India_by_population\")\n",
        "df\n",
        "\n",
        "for idx,table in enumerate(df):\n",
        "    print(\"**************************\")\n",
        "    print(idx)\n",
        "    print(table)\n",
        "    \n",
        "    "
      ]
    },
    {
      "cell_type": "markdown",
      "metadata": {
        "id": "W9u86njO2tcX"
      },
      "source": [
        "df[0]\n",
        "#df.drop(df.index[[0]])\n",
        "#df1 = pd.DataFrame(df)"
      ]
    },
    {
      "cell_type": "markdown",
      "metadata": {
        "id": "dXXPGD172tcY"
      },
      "source": [
        "#df1 = df.copy()\n",
        "#df1[0]\n",
        "df.to_csv(\"Population.csv\",index=\"Rank\")"
      ]
    },
    {
      "cell_type": "code",
      "execution_count": null,
      "metadata": {
        "id": "zVp3Ejzu2tcY"
      },
      "outputs": [],
      "source": [
        "import pandas as pd"
      ]
    },
    {
      "cell_type": "code",
      "execution_count": null,
      "metadata": {
        "id": "PMav47_r2tcZ"
      },
      "outputs": [],
      "source": [
        "df.to_csv(\"output.csv\")"
      ]
    },
    {
      "cell_type": "code",
      "execution_count": null,
      "metadata": {
        "id": "y2zwBUV_2tca"
      },
      "outputs": [],
      "source": [
        "#import calender\n",
        "from calendar import*"
      ]
    },
    {
      "cell_type": "code",
      "execution_count": null,
      "metadata": {
        "id": "BoCaG4KJ2tca",
        "outputId": "e2f35f75-caac-4bf8-b0aa-0a1161aa643e"
      },
      "outputs": [
        {
          "name": "stdout",
          "output_type": "stream",
          "text": [
            "Enter year:2022\n",
            "                                                  2022\n",
            "\n",
            "      January                     February                     March                       April\n",
            "Mo Tu We Th Fr Sa Su        Mo Tu We Th Fr Sa Su        Mo Tu We Th Fr Sa Su        Mo Tu We Th Fr Sa Su\n",
            "                1  2            1  2  3  4  5  6            1  2  3  4  5  6                     1  2  3\n",
            " 3  4  5  6  7  8  9         7  8  9 10 11 12 13         7  8  9 10 11 12 13         4  5  6  7  8  9 10\n",
            "10 11 12 13 14 15 16        14 15 16 17 18 19 20        14 15 16 17 18 19 20        11 12 13 14 15 16 17\n",
            "17 18 19 20 21 22 23        21 22 23 24 25 26 27        21 22 23 24 25 26 27        18 19 20 21 22 23 24\n",
            "24 25 26 27 28 29 30        28                          28 29 30 31                 25 26 27 28 29 30\n",
            "31\n",
            "\n",
            "        May                         June                        July                       August\n",
            "Mo Tu We Th Fr Sa Su        Mo Tu We Th Fr Sa Su        Mo Tu We Th Fr Sa Su        Mo Tu We Th Fr Sa Su\n",
            "                   1               1  2  3  4  5                     1  2  3         1  2  3  4  5  6  7\n",
            " 2  3  4  5  6  7  8         6  7  8  9 10 11 12         4  5  6  7  8  9 10         8  9 10 11 12 13 14\n",
            " 9 10 11 12 13 14 15        13 14 15 16 17 18 19        11 12 13 14 15 16 17        15 16 17 18 19 20 21\n",
            "16 17 18 19 20 21 22        20 21 22 23 24 25 26        18 19 20 21 22 23 24        22 23 24 25 26 27 28\n",
            "23 24 25 26 27 28 29        27 28 29 30                 25 26 27 28 29 30 31        29 30 31\n",
            "30 31\n",
            "\n",
            "     September                    October                     November                    December\n",
            "Mo Tu We Th Fr Sa Su        Mo Tu We Th Fr Sa Su        Mo Tu We Th Fr Sa Su        Mo Tu We Th Fr Sa Su\n",
            "          1  2  3  4                        1  2            1  2  3  4  5  6                  1  2  3  4\n",
            " 5  6  7  8  9 10 11         3  4  5  6  7  8  9         7  8  9 10 11 12 13         5  6  7  8  9 10 11\n",
            "12 13 14 15 16 17 18        10 11 12 13 14 15 16        14 15 16 17 18 19 20        12 13 14 15 16 17 18\n",
            "19 20 21 22 23 24 25        17 18 19 20 21 22 23        21 22 23 24 25 26 27        19 20 21 22 23 24 25\n",
            "26 27 28 29 30              24 25 26 27 28 29 30        28 29 30                    26 27 28 29 30 31\n",
            "                            31\n",
            "\n"
          ]
        }
      ],
      "source": [
        "year = int(input(\"Enter year:\"))\n",
        "print(calendar(year,2,1,7,4))"
      ]
    },
    {
      "cell_type": "code",
      "execution_count": null,
      "metadata": {
        "id": "7FwNSHJv2tcb"
      },
      "outputs": [],
      "source": [
        "#year = int(input(\"Enter year:\"))\n",
        "import calendar\n",
        "#"
      ]
    },
    {
      "cell_type": "code",
      "execution_count": null,
      "metadata": {
        "id": "8KGtCc0E2tcb",
        "outputId": "0c0c2c88-fcd5-42a0-d254-b4d1c46782cd"
      },
      "outputs": [
        {
          "name": "stdout",
          "output_type": "stream",
          "text": [
            "    August 2022\n",
            "Mo Tu We Th Fr Sa Su\n",
            " 1  2  3  4  5  6  7\n",
            " 8  9 10 11 12 13 14\n",
            "15 16 17 18 19 20 21\n",
            "22 23 24 25 26 27 28\n",
            "29 30 31\n",
            "\n",
            "6\n"
          ]
        }
      ],
      "source": [
        "print(calendar.month(2022,8))\n",
        "print(calendar.weekday(2022, 8, 14))\n"
      ]
    },
    {
      "cell_type": "code",
      "execution_count": null,
      "metadata": {
        "id": "qqWZhuQR2tcc",
        "outputId": "a092d4d2-81c2-46dd-cf68-a288997c0020"
      },
      "outputs": [
        {
          "name": "stdout",
          "output_type": "stream",
          "text": [
            "Datetime is: 2022-07-22 12:31:25.059474\n",
            "Day of a week is: 4\n"
          ]
        }
      ],
      "source": [
        "#Get the day of a week from Datetime\n",
        "from datetime import datetime\n",
        "\n",
        "# get current datetime\n",
        "dt = datetime.now()\n",
        "print('Datetime is:', dt)\n",
        "\n",
        "# get day of week as an integer\n",
        "x = dt.weekday()\n",
        "print('Day of a week is:', x)"
      ]
    },
    {
      "cell_type": "markdown",
      "metadata": {
        "id": "lxszvG892tcd"
      },
      "source": [
        "Use the isoweekday() method to get the day of the week as an integer, where Monday is 1 and Sunday is 7. i.e., To start from the weekday number from 1, we can use isoweekday() in place of weekday()"
      ]
    },
    {
      "cell_type": "code",
      "execution_count": null,
      "metadata": {
        "id": "LEA7khK32tcd",
        "outputId": "378ebdf4-1ae4-4528-a267-cf36f4e698ce"
      },
      "outputs": [
        {
          "name": "stdout",
          "output_type": "stream",
          "text": [
            "Datetime is: 2022-07-22 12:33:24.182866\n",
            "Weekday is: 5\n"
          ]
        }
      ],
      "source": [
        "from datetime import datetime\n",
        "\n",
        "# get current datetime\n",
        "dt = datetime.now()\n",
        "print('Datetime is:', dt)\n",
        "print('Weekday is:', dt.isoweekday())"
      ]
    },
    {
      "cell_type": "markdown",
      "metadata": {
        "id": "yndW44Q42tce"
      },
      "source": [
        "Get the Weekday Name from date using Calendar Module"
      ]
    },
    {
      "cell_type": "code",
      "execution_count": null,
      "metadata": {
        "id": "0IrU4ni02tcf",
        "outputId": "d49acd51-252e-497e-83eb-32159b5221a7"
      },
      "outputs": [
        {
          "name": "stdout",
          "output_type": "stream",
          "text": [
            "Date is: 2022-07-22\n",
            "Weekday name is: Friday\n"
          ]
        }
      ],
      "source": [
        "import calendar\n",
        "from datetime import date\n",
        "\n",
        "# get today's date\n",
        "d = date.today()\n",
        "print('Date is:', d)\n",
        "\n",
        "# get day name in english\n",
        "x = calendar.day_name[d.weekday()]\n",
        "print('Weekday name is:', x)"
      ]
    },
    {
      "cell_type": "code",
      "execution_count": null,
      "metadata": {
        "id": "bTFtxcyZ2tcg",
        "outputId": "8bd959eb-d060-4a5c-8eae-c39a79762fd2"
      },
      "outputs": [
        {
          "name": "stdout",
          "output_type": "stream",
          "text": [
            "Datetime is: 2022-07-22 12:38:40.636651\n",
            "Weekday Number: 4\n",
            "ISO Weekday Number: 5\n",
            "Weekday Name: Friday\n",
            "Weekday name is: Friday\n"
          ]
        }
      ],
      "source": [
        "from datetime import datetime\n",
        "import calendar\n",
        "\n",
        "# get current datetime\n",
        "dt = datetime.now()\n",
        "print('Datetime is:', dt)\n",
        "\n",
        "# weekday (Monday =0 Sunday=6)\n",
        "print('Weekday Number:', dt.weekday())\n",
        "\n",
        "# isoweekday(Monday =1 Sunday=6)\n",
        "print('ISO Weekday Number:', dt.isoweekday())\n",
        "\n",
        "# get weekday name\n",
        "print('Weekday Name:', dt.strftime('%A'))\n",
        "\n",
        "# get day name\n",
        "x = calendar.day_name[dt.weekday()]\n",
        "print('Weekday name is:', x)"
      ]
    },
    {
      "cell_type": "code",
      "execution_count": null,
      "metadata": {
        "id": "lox9JWHv2tcg"
      },
      "outputs": [],
      "source": [
        ""
      ]
    },
    {
      "cell_type": "code",
      "execution_count": null,
      "metadata": {
        "id": "o2FG2Ius2tch"
      },
      "outputs": [],
      "source": [
        ""
      ]
    },
    {
      "cell_type": "code",
      "execution_count": null,
      "metadata": {
        "id": "45jvCroz2tch"
      },
      "outputs": [],
      "source": [
        ""
      ]
    },
    {
      "cell_type": "code",
      "execution_count": null,
      "metadata": {
        "id": "mObSM9Jw2tch"
      },
      "outputs": [],
      "source": [
        ""
      ]
    },
    {
      "cell_type": "code",
      "execution_count": null,
      "metadata": {
        "id": "Q2tz2Wfp2tci"
      },
      "outputs": [],
      "source": [
        ""
      ]
    },
    {
      "cell_type": "code",
      "execution_count": null,
      "metadata": {
        "id": "hFHq7zBd2tci",
        "colab": {
          "base_uri": "https://localhost:8080/"
        },
        "outputId": "b7271dd4-68b5-4fbe-8b12-2fe03ba94534"
      },
      "outputs": [
        {
          "output_type": "stream",
          "name": "stdout",
          "text": [
            "The original list : ['Manjeets', 'Akashs', 'Akshats', 'Nikhils']\n",
            "The list after removing last characters : ['Manjeet', 'Akash', 'Akshat', 'Nikhil']\n"
          ]
        }
      ],
      "source": [
        "# Python3 code to demonstrate\n",
        "# remove last character from list of strings\n",
        "# using list comprehension + list slicing\n",
        "\n",
        "# initializing list\n",
        "test_list = ['Manjeets', 'Akashs', 'Akshats', 'Nikhils']\n",
        "\n",
        "# printing original list\n",
        "print(\"The original list : \" + str(test_list))\n",
        "\n",
        "# using list comprehension + list slicing\n",
        "# remove last character from list of strings\n",
        "res = [sub[ : -1] for sub in test_list]\n",
        "\n",
        "# printing result\n",
        "print(\"The list after removing last characters : \" + str(res))\n"
      ]
    },
    {
      "cell_type": "code",
      "execution_count": null,
      "metadata": {
        "id": "JbqQJ_LZ2tci",
        "colab": {
          "base_uri": "https://localhost:8080/"
        },
        "outputId": "93b2deb5-c756-4d50-8613-a0818170f4b6"
      },
      "outputs": [
        {
          "output_type": "stream",
          "name": "stdout",
          "text": [
            "Dogecoin\n"
          ]
        }
      ],
      "source": [
        "data = \"Dogecoin,\"\n",
        "\n",
        "dfa = data.rstrip(data[-1])\n",
        "\n",
        "print(dfa)"
      ]
    },
    {
      "cell_type": "code",
      "source": [
        "# Python code to demonstrate\n",
        "# method to remove i'th character\n",
        "# using join() + list comprehension\n",
        "\n",
        "# Initializing String\n",
        "test_str = \"Mashetty\"\n",
        "\n",
        "# Printing original string\n",
        "print (\"The original string is : \" + test_str)\n",
        "\n",
        "# Removing char at pos 3\n",
        "# using join() + list comprehension\n",
        "new_str = ''.join([test_str[i] for i in range(len(test_str)) if i != 5])\n",
        "\n",
        "# Printing string after removal\n",
        "# removes ele. at 3rd index\n",
        "print (\"The string after removal of i'th character : \" + new_str)\n"
      ],
      "metadata": {
        "colab": {
          "base_uri": "https://localhost:8080/"
        },
        "id": "I4US2r9jt2Hz",
        "outputId": "1126edac-7f0d-494b-acd4-4f930e1c368d"
      },
      "execution_count": null,
      "outputs": [
        {
          "output_type": "stream",
          "name": "stdout",
          "text": [
            "The original string is : Mashetty\n",
            "The string after removal of i'th character : Mashety\n"
          ]
        }
      ]
    },
    {
      "cell_type": "code",
      "source": [
        "# Python3 code to demonstrate\n",
        "# removal of bad_chars\n",
        "# using join() + generator\n",
        "\n",
        "# initializing bad_chars_list\n",
        "bad_chars = [';', ':', '!', \"*\", \" \"]\n",
        "\n",
        "# initializing test string\n",
        "test_string = \"Ge;ek * s:fo ! r;Ge * e*k:s99 !\"\n",
        "\n",
        "# printing original string\n",
        "print (\"Original String : \" + test_string)\n",
        "\n",
        "# using join() + generator to\n",
        "# remove bad_chars\n",
        "test_string = ''.join(i for i in test_string if not i in bad_chars)\n",
        "\n",
        "# printing resultant string\n",
        "print (\"Resultant list is : \" + str(test_string))\n"
      ],
      "metadata": {
        "id": "Ikt6sEOjt2iw",
        "colab": {
          "base_uri": "https://localhost:8080/"
        },
        "outputId": "1270bb4a-9151-4bd9-fb1f-1a34c6d663d2"
      },
      "execution_count": 7,
      "outputs": [
        {
          "output_type": "stream",
          "name": "stdout",
          "text": [
            "Original String : Ge;ek * s:fo ! r;Ge * e*k:s99 !\n",
            "Resultant list is : GeeksforGeeks99\n"
          ]
        }
      ]
    },
    {
      "cell_type": "markdown",
      "source": [
        ""
      ],
      "metadata": {
        "id": "kDI9qEUdt12u"
      }
    },
    {
      "cell_type": "code",
      "source": [
        "import re\n",
        "df_s =\"ABcd12345\"\n",
        "df_string = re.sub(r'[0-9]+',\"\",df_s)\n",
        "print(df_string)"
      ],
      "metadata": {
        "id": "T_d--7xUt1h1",
        "colab": {
          "base_uri": "https://localhost:8080/"
        },
        "outputId": "342b82b0-6ffa-4bfb-ee9a-70debba3a7ef"
      },
      "execution_count": 4,
      "outputs": [
        {
          "output_type": "stream",
          "name": "stdout",
          "text": [
            "ABcd\n"
          ]
        }
      ]
    },
    {
      "cell_type": "markdown",
      "source": [
        "# **How to extract / seperate the number & text in data frame**"
      ],
      "metadata": {
        "id": "93K9FKSWT-Xx"
      }
    },
    {
      "cell_type": "code",
      "source": [
        "import pandas as pd\n",
        "d = {\n",
        " \n",
        " 'question#': ['a1.2','a10','a10.1','b11.1a','k20.3d','b20c']\n",
        "}\n",
        "df = pd.DataFrame(d)"
      ],
      "metadata": {
        "id": "mLr8TzrBTmI_"
      },
      "execution_count": 8,
      "outputs": []
    },
    {
      "cell_type": "code",
      "source": [
        "df[['firstcol', 'secondcol', 'thirdcol']] = df['question#'].str.extract('([A-Za-z]+)(\\d+\\.?\\d*)([A-Za-z]*)', expand = True)\n",
        "df"
      ],
      "metadata": {
        "id": "cnPnpOdIt1Fg",
        "colab": {
          "base_uri": "https://localhost:8080/",
          "height": 238
        },
        "outputId": "c27c5479-bf4f-41b9-bef8-3128c8630369"
      },
      "execution_count": 9,
      "outputs": [
        {
          "output_type": "execute_result",
          "data": {
            "text/plain": [
              "  question# firstcol secondcol thirdcol\n",
              "0      a1.2        a       1.2         \n",
              "1       a10        a        10         \n",
              "2     a10.1        a      10.1         \n",
              "3    b11.1a        b      11.1        a\n",
              "4    k20.3d        k      20.3        d\n",
              "5      b20c        b        20        c"
            ],
            "text/html": [
              "\n",
              "  <div id=\"df-82e0ce77-016b-4745-bf09-275a1e911bd3\">\n",
              "    <div class=\"colab-df-container\">\n",
              "      <div>\n",
              "<style scoped>\n",
              "    .dataframe tbody tr th:only-of-type {\n",
              "        vertical-align: middle;\n",
              "    }\n",
              "\n",
              "    .dataframe tbody tr th {\n",
              "        vertical-align: top;\n",
              "    }\n",
              "\n",
              "    .dataframe thead th {\n",
              "        text-align: right;\n",
              "    }\n",
              "</style>\n",
              "<table border=\"1\" class=\"dataframe\">\n",
              "  <thead>\n",
              "    <tr style=\"text-align: right;\">\n",
              "      <th></th>\n",
              "      <th>question#</th>\n",
              "      <th>firstcol</th>\n",
              "      <th>secondcol</th>\n",
              "      <th>thirdcol</th>\n",
              "    </tr>\n",
              "  </thead>\n",
              "  <tbody>\n",
              "    <tr>\n",
              "      <th>0</th>\n",
              "      <td>a1.2</td>\n",
              "      <td>a</td>\n",
              "      <td>1.2</td>\n",
              "      <td></td>\n",
              "    </tr>\n",
              "    <tr>\n",
              "      <th>1</th>\n",
              "      <td>a10</td>\n",
              "      <td>a</td>\n",
              "      <td>10</td>\n",
              "      <td></td>\n",
              "    </tr>\n",
              "    <tr>\n",
              "      <th>2</th>\n",
              "      <td>a10.1</td>\n",
              "      <td>a</td>\n",
              "      <td>10.1</td>\n",
              "      <td></td>\n",
              "    </tr>\n",
              "    <tr>\n",
              "      <th>3</th>\n",
              "      <td>b11.1a</td>\n",
              "      <td>b</td>\n",
              "      <td>11.1</td>\n",
              "      <td>a</td>\n",
              "    </tr>\n",
              "    <tr>\n",
              "      <th>4</th>\n",
              "      <td>k20.3d</td>\n",
              "      <td>k</td>\n",
              "      <td>20.3</td>\n",
              "      <td>d</td>\n",
              "    </tr>\n",
              "    <tr>\n",
              "      <th>5</th>\n",
              "      <td>b20c</td>\n",
              "      <td>b</td>\n",
              "      <td>20</td>\n",
              "      <td>c</td>\n",
              "    </tr>\n",
              "  </tbody>\n",
              "</table>\n",
              "</div>\n",
              "      <button class=\"colab-df-convert\" onclick=\"convertToInteractive('df-82e0ce77-016b-4745-bf09-275a1e911bd3')\"\n",
              "              title=\"Convert this dataframe to an interactive table.\"\n",
              "              style=\"display:none;\">\n",
              "        \n",
              "  <svg xmlns=\"http://www.w3.org/2000/svg\" height=\"24px\"viewBox=\"0 0 24 24\"\n",
              "       width=\"24px\">\n",
              "    <path d=\"M0 0h24v24H0V0z\" fill=\"none\"/>\n",
              "    <path d=\"M18.56 5.44l.94 2.06.94-2.06 2.06-.94-2.06-.94-.94-2.06-.94 2.06-2.06.94zm-11 1L8.5 8.5l.94-2.06 2.06-.94-2.06-.94L8.5 2.5l-.94 2.06-2.06.94zm10 10l.94 2.06.94-2.06 2.06-.94-2.06-.94-.94-2.06-.94 2.06-2.06.94z\"/><path d=\"M17.41 7.96l-1.37-1.37c-.4-.4-.92-.59-1.43-.59-.52 0-1.04.2-1.43.59L10.3 9.45l-7.72 7.72c-.78.78-.78 2.05 0 2.83L4 21.41c.39.39.9.59 1.41.59.51 0 1.02-.2 1.41-.59l7.78-7.78 2.81-2.81c.8-.78.8-2.07 0-2.86zM5.41 20L4 18.59l7.72-7.72 1.47 1.35L5.41 20z\"/>\n",
              "  </svg>\n",
              "      </button>\n",
              "      \n",
              "  <style>\n",
              "    .colab-df-container {\n",
              "      display:flex;\n",
              "      flex-wrap:wrap;\n",
              "      gap: 12px;\n",
              "    }\n",
              "\n",
              "    .colab-df-convert {\n",
              "      background-color: #E8F0FE;\n",
              "      border: none;\n",
              "      border-radius: 50%;\n",
              "      cursor: pointer;\n",
              "      display: none;\n",
              "      fill: #1967D2;\n",
              "      height: 32px;\n",
              "      padding: 0 0 0 0;\n",
              "      width: 32px;\n",
              "    }\n",
              "\n",
              "    .colab-df-convert:hover {\n",
              "      background-color: #E2EBFA;\n",
              "      box-shadow: 0px 1px 2px rgba(60, 64, 67, 0.3), 0px 1px 3px 1px rgba(60, 64, 67, 0.15);\n",
              "      fill: #174EA6;\n",
              "    }\n",
              "\n",
              "    [theme=dark] .colab-df-convert {\n",
              "      background-color: #3B4455;\n",
              "      fill: #D2E3FC;\n",
              "    }\n",
              "\n",
              "    [theme=dark] .colab-df-convert:hover {\n",
              "      background-color: #434B5C;\n",
              "      box-shadow: 0px 1px 3px 1px rgba(0, 0, 0, 0.15);\n",
              "      filter: drop-shadow(0px 1px 2px rgba(0, 0, 0, 0.3));\n",
              "      fill: #FFFFFF;\n",
              "    }\n",
              "  </style>\n",
              "\n",
              "      <script>\n",
              "        const buttonEl =\n",
              "          document.querySelector('#df-82e0ce77-016b-4745-bf09-275a1e911bd3 button.colab-df-convert');\n",
              "        buttonEl.style.display =\n",
              "          google.colab.kernel.accessAllowed ? 'block' : 'none';\n",
              "\n",
              "        async function convertToInteractive(key) {\n",
              "          const element = document.querySelector('#df-82e0ce77-016b-4745-bf09-275a1e911bd3');\n",
              "          const dataTable =\n",
              "            await google.colab.kernel.invokeFunction('convertToInteractive',\n",
              "                                                     [key], {});\n",
              "          if (!dataTable) return;\n",
              "\n",
              "          const docLinkHtml = 'Like what you see? Visit the ' +\n",
              "            '<a target=\"_blank\" href=https://colab.research.google.com/notebooks/data_table.ipynb>data table notebook</a>'\n",
              "            + ' to learn more about interactive tables.';\n",
              "          element.innerHTML = '';\n",
              "          dataTable['output_type'] = 'display_data';\n",
              "          await google.colab.output.renderOutput(dataTable, element);\n",
              "          const docLink = document.createElement('div');\n",
              "          docLink.innerHTML = docLinkHtml;\n",
              "          element.appendChild(docLink);\n",
              "        }\n",
              "      </script>\n",
              "    </div>\n",
              "  </div>\n",
              "  "
            ]
          },
          "metadata": {},
          "execution_count": 9
        }
      ]
    },
    {
      "cell_type": "code",
      "source": [
        "import pandas as pd \n",
        "\n",
        "df = pd.DataFrame([\"STD, City    State\",\n",
        "\"33, Kolkata    West Bengal\",\n",
        "\"44, Chennai    Tamil Nadu\",\n",
        "\"40, Hyderabad    Telengana\",\n",
        "\"80, Bangalore    Karnataka\"], columns=['row'])\n",
        "df\n"
      ],
      "metadata": {
        "id": "C6LAwZAkt0K1",
        "colab": {
          "base_uri": "https://localhost:8080/",
          "height": 206
        },
        "outputId": "15fdcc93-4def-4468-c399-b478761e419e"
      },
      "execution_count": 12,
      "outputs": [
        {
          "output_type": "execute_result",
          "data": {
            "text/plain": [
              "                          row\n",
              "0          STD, City    State\n",
              "1  33, Kolkata    West Bengal\n",
              "2   44, Chennai    Tamil Nadu\n",
              "3  40, Hyderabad    Telengana\n",
              "4  80, Bangalore    Karnataka"
            ],
            "text/html": [
              "\n",
              "  <div id=\"df-48a63a16-086b-4d80-95b1-4042645adc99\">\n",
              "    <div class=\"colab-df-container\">\n",
              "      <div>\n",
              "<style scoped>\n",
              "    .dataframe tbody tr th:only-of-type {\n",
              "        vertical-align: middle;\n",
              "    }\n",
              "\n",
              "    .dataframe tbody tr th {\n",
              "        vertical-align: top;\n",
              "    }\n",
              "\n",
              "    .dataframe thead th {\n",
              "        text-align: right;\n",
              "    }\n",
              "</style>\n",
              "<table border=\"1\" class=\"dataframe\">\n",
              "  <thead>\n",
              "    <tr style=\"text-align: right;\">\n",
              "      <th></th>\n",
              "      <th>row</th>\n",
              "    </tr>\n",
              "  </thead>\n",
              "  <tbody>\n",
              "    <tr>\n",
              "      <th>0</th>\n",
              "      <td>STD, City    State</td>\n",
              "    </tr>\n",
              "    <tr>\n",
              "      <th>1</th>\n",
              "      <td>33, Kolkata    West Bengal</td>\n",
              "    </tr>\n",
              "    <tr>\n",
              "      <th>2</th>\n",
              "      <td>44, Chennai    Tamil Nadu</td>\n",
              "    </tr>\n",
              "    <tr>\n",
              "      <th>3</th>\n",
              "      <td>40, Hyderabad    Telengana</td>\n",
              "    </tr>\n",
              "    <tr>\n",
              "      <th>4</th>\n",
              "      <td>80, Bangalore    Karnataka</td>\n",
              "    </tr>\n",
              "  </tbody>\n",
              "</table>\n",
              "</div>\n",
              "      <button class=\"colab-df-convert\" onclick=\"convertToInteractive('df-48a63a16-086b-4d80-95b1-4042645adc99')\"\n",
              "              title=\"Convert this dataframe to an interactive table.\"\n",
              "              style=\"display:none;\">\n",
              "        \n",
              "  <svg xmlns=\"http://www.w3.org/2000/svg\" height=\"24px\"viewBox=\"0 0 24 24\"\n",
              "       width=\"24px\">\n",
              "    <path d=\"M0 0h24v24H0V0z\" fill=\"none\"/>\n",
              "    <path d=\"M18.56 5.44l.94 2.06.94-2.06 2.06-.94-2.06-.94-.94-2.06-.94 2.06-2.06.94zm-11 1L8.5 8.5l.94-2.06 2.06-.94-2.06-.94L8.5 2.5l-.94 2.06-2.06.94zm10 10l.94 2.06.94-2.06 2.06-.94-2.06-.94-.94-2.06-.94 2.06-2.06.94z\"/><path d=\"M17.41 7.96l-1.37-1.37c-.4-.4-.92-.59-1.43-.59-.52 0-1.04.2-1.43.59L10.3 9.45l-7.72 7.72c-.78.78-.78 2.05 0 2.83L4 21.41c.39.39.9.59 1.41.59.51 0 1.02-.2 1.41-.59l7.78-7.78 2.81-2.81c.8-.78.8-2.07 0-2.86zM5.41 20L4 18.59l7.72-7.72 1.47 1.35L5.41 20z\"/>\n",
              "  </svg>\n",
              "      </button>\n",
              "      \n",
              "  <style>\n",
              "    .colab-df-container {\n",
              "      display:flex;\n",
              "      flex-wrap:wrap;\n",
              "      gap: 12px;\n",
              "    }\n",
              "\n",
              "    .colab-df-convert {\n",
              "      background-color: #E8F0FE;\n",
              "      border: none;\n",
              "      border-radius: 50%;\n",
              "      cursor: pointer;\n",
              "      display: none;\n",
              "      fill: #1967D2;\n",
              "      height: 32px;\n",
              "      padding: 0 0 0 0;\n",
              "      width: 32px;\n",
              "    }\n",
              "\n",
              "    .colab-df-convert:hover {\n",
              "      background-color: #E2EBFA;\n",
              "      box-shadow: 0px 1px 2px rgba(60, 64, 67, 0.3), 0px 1px 3px 1px rgba(60, 64, 67, 0.15);\n",
              "      fill: #174EA6;\n",
              "    }\n",
              "\n",
              "    [theme=dark] .colab-df-convert {\n",
              "      background-color: #3B4455;\n",
              "      fill: #D2E3FC;\n",
              "    }\n",
              "\n",
              "    [theme=dark] .colab-df-convert:hover {\n",
              "      background-color: #434B5C;\n",
              "      box-shadow: 0px 1px 3px 1px rgba(0, 0, 0, 0.15);\n",
              "      filter: drop-shadow(0px 1px 2px rgba(0, 0, 0, 0.3));\n",
              "      fill: #FFFFFF;\n",
              "    }\n",
              "  </style>\n",
              "\n",
              "      <script>\n",
              "        const buttonEl =\n",
              "          document.querySelector('#df-48a63a16-086b-4d80-95b1-4042645adc99 button.colab-df-convert');\n",
              "        buttonEl.style.display =\n",
              "          google.colab.kernel.accessAllowed ? 'block' : 'none';\n",
              "\n",
              "        async function convertToInteractive(key) {\n",
              "          const element = document.querySelector('#df-48a63a16-086b-4d80-95b1-4042645adc99');\n",
              "          const dataTable =\n",
              "            await google.colab.kernel.invokeFunction('convertToInteractive',\n",
              "                                                     [key], {});\n",
              "          if (!dataTable) return;\n",
              "\n",
              "          const docLinkHtml = 'Like what you see? Visit the ' +\n",
              "            '<a target=\"_blank\" href=https://colab.research.google.com/notebooks/data_table.ipynb>data table notebook</a>'\n",
              "            + ' to learn more about interactive tables.';\n",
              "          element.innerHTML = '';\n",
              "          dataTable['output_type'] = 'display_data';\n",
              "          await google.colab.output.renderOutput(dataTable, element);\n",
              "          const docLink = document.createElement('div');\n",
              "          docLink.innerHTML = docLinkHtml;\n",
              "          element.appendChild(docLink);\n",
              "        }\n",
              "      </script>\n",
              "    </div>\n",
              "  </div>\n",
              "  "
            ]
          },
          "metadata": {},
          "execution_count": 12
        }
      ]
    },
    {
      "cell_type": "code",
      "source": [
        "a = pd.DataFrame(['F_Name, L_name s.no',\n",
        "                  \"Aman, Mashetty  33\",\n",
        "                  \"Vinod, Biradar  35\"], columns=['row'])\n",
        "a\n"
      ],
      "metadata": {
        "colab": {
          "base_uri": "https://localhost:8080/",
          "height": 143
        },
        "id": "yee2PB6qaPi4",
        "outputId": "65e3e20f-c46c-4369-fe9d-89db7fda9536"
      },
      "execution_count": 49,
      "outputs": [
        {
          "output_type": "execute_result",
          "data": {
            "text/plain": [
              "                   row\n",
              "0  F_Name, L_name s.no\n",
              "1   Aman, Mashetty  33\n",
              "2   Vinod, Biradar  35"
            ],
            "text/html": [
              "\n",
              "  <div id=\"df-1e47e830-182e-44b6-9197-a651cf7981ca\">\n",
              "    <div class=\"colab-df-container\">\n",
              "      <div>\n",
              "<style scoped>\n",
              "    .dataframe tbody tr th:only-of-type {\n",
              "        vertical-align: middle;\n",
              "    }\n",
              "\n",
              "    .dataframe tbody tr th {\n",
              "        vertical-align: top;\n",
              "    }\n",
              "\n",
              "    .dataframe thead th {\n",
              "        text-align: right;\n",
              "    }\n",
              "</style>\n",
              "<table border=\"1\" class=\"dataframe\">\n",
              "  <thead>\n",
              "    <tr style=\"text-align: right;\">\n",
              "      <th></th>\n",
              "      <th>row</th>\n",
              "    </tr>\n",
              "  </thead>\n",
              "  <tbody>\n",
              "    <tr>\n",
              "      <th>0</th>\n",
              "      <td>F_Name, L_name s.no</td>\n",
              "    </tr>\n",
              "    <tr>\n",
              "      <th>1</th>\n",
              "      <td>Aman, Mashetty  33</td>\n",
              "    </tr>\n",
              "    <tr>\n",
              "      <th>2</th>\n",
              "      <td>Vinod, Biradar  35</td>\n",
              "    </tr>\n",
              "  </tbody>\n",
              "</table>\n",
              "</div>\n",
              "      <button class=\"colab-df-convert\" onclick=\"convertToInteractive('df-1e47e830-182e-44b6-9197-a651cf7981ca')\"\n",
              "              title=\"Convert this dataframe to an interactive table.\"\n",
              "              style=\"display:none;\">\n",
              "        \n",
              "  <svg xmlns=\"http://www.w3.org/2000/svg\" height=\"24px\"viewBox=\"0 0 24 24\"\n",
              "       width=\"24px\">\n",
              "    <path d=\"M0 0h24v24H0V0z\" fill=\"none\"/>\n",
              "    <path d=\"M18.56 5.44l.94 2.06.94-2.06 2.06-.94-2.06-.94-.94-2.06-.94 2.06-2.06.94zm-11 1L8.5 8.5l.94-2.06 2.06-.94-2.06-.94L8.5 2.5l-.94 2.06-2.06.94zm10 10l.94 2.06.94-2.06 2.06-.94-2.06-.94-.94-2.06-.94 2.06-2.06.94z\"/><path d=\"M17.41 7.96l-1.37-1.37c-.4-.4-.92-.59-1.43-.59-.52 0-1.04.2-1.43.59L10.3 9.45l-7.72 7.72c-.78.78-.78 2.05 0 2.83L4 21.41c.39.39.9.59 1.41.59.51 0 1.02-.2 1.41-.59l7.78-7.78 2.81-2.81c.8-.78.8-2.07 0-2.86zM5.41 20L4 18.59l7.72-7.72 1.47 1.35L5.41 20z\"/>\n",
              "  </svg>\n",
              "      </button>\n",
              "      \n",
              "  <style>\n",
              "    .colab-df-container {\n",
              "      display:flex;\n",
              "      flex-wrap:wrap;\n",
              "      gap: 12px;\n",
              "    }\n",
              "\n",
              "    .colab-df-convert {\n",
              "      background-color: #E8F0FE;\n",
              "      border: none;\n",
              "      border-radius: 50%;\n",
              "      cursor: pointer;\n",
              "      display: none;\n",
              "      fill: #1967D2;\n",
              "      height: 32px;\n",
              "      padding: 0 0 0 0;\n",
              "      width: 32px;\n",
              "    }\n",
              "\n",
              "    .colab-df-convert:hover {\n",
              "      background-color: #E2EBFA;\n",
              "      box-shadow: 0px 1px 2px rgba(60, 64, 67, 0.3), 0px 1px 3px 1px rgba(60, 64, 67, 0.15);\n",
              "      fill: #174EA6;\n",
              "    }\n",
              "\n",
              "    [theme=dark] .colab-df-convert {\n",
              "      background-color: #3B4455;\n",
              "      fill: #D2E3FC;\n",
              "    }\n",
              "\n",
              "    [theme=dark] .colab-df-convert:hover {\n",
              "      background-color: #434B5C;\n",
              "      box-shadow: 0px 1px 3px 1px rgba(0, 0, 0, 0.15);\n",
              "      filter: drop-shadow(0px 1px 2px rgba(0, 0, 0, 0.3));\n",
              "      fill: #FFFFFF;\n",
              "    }\n",
              "  </style>\n",
              "\n",
              "      <script>\n",
              "        const buttonEl =\n",
              "          document.querySelector('#df-1e47e830-182e-44b6-9197-a651cf7981ca button.colab-df-convert');\n",
              "        buttonEl.style.display =\n",
              "          google.colab.kernel.accessAllowed ? 'block' : 'none';\n",
              "\n",
              "        async function convertToInteractive(key) {\n",
              "          const element = document.querySelector('#df-1e47e830-182e-44b6-9197-a651cf7981ca');\n",
              "          const dataTable =\n",
              "            await google.colab.kernel.invokeFunction('convertToInteractive',\n",
              "                                                     [key], {});\n",
              "          if (!dataTable) return;\n",
              "\n",
              "          const docLinkHtml = 'Like what you see? Visit the ' +\n",
              "            '<a target=\"_blank\" href=https://colab.research.google.com/notebooks/data_table.ipynb>data table notebook</a>'\n",
              "            + ' to learn more about interactive tables.';\n",
              "          element.innerHTML = '';\n",
              "          dataTable['output_type'] = 'display_data';\n",
              "          await google.colab.output.renderOutput(dataTable, element);\n",
              "          const docLink = document.createElement('div');\n",
              "          docLink.innerHTML = docLinkHtml;\n",
              "          element.appendChild(docLink);\n",
              "        }\n",
              "      </script>\n",
              "    </div>\n",
              "  </div>\n",
              "  "
            ]
          },
          "metadata": {},
          "execution_count": 49
        }
      ]
    },
    {
      "cell_type": "code",
      "source": [
        "df = pd.DataFrame(a.row.str.split(' ',2).tolist(),columns=['F_Name','L_Name','S.No'])\n",
        "df"
      ],
      "metadata": {
        "colab": {
          "base_uri": "https://localhost:8080/",
          "height": 143
        },
        "id": "3GjkRXfxaPLv",
        "outputId": "e387dad9-7ea9-4eb9-8e17-5158811279d6"
      },
      "execution_count": 50,
      "outputs": [
        {
          "output_type": "execute_result",
          "data": {
            "text/plain": [
              "    F_Name    L_Name  S.No\n",
              "0  F_Name,    L_name  s.no\n",
              "1    Aman,  Mashetty    33\n",
              "2   Vinod,   Biradar    35"
            ],
            "text/html": [
              "\n",
              "  <div id=\"df-bab861be-d410-47ea-9980-e09297027843\">\n",
              "    <div class=\"colab-df-container\">\n",
              "      <div>\n",
              "<style scoped>\n",
              "    .dataframe tbody tr th:only-of-type {\n",
              "        vertical-align: middle;\n",
              "    }\n",
              "\n",
              "    .dataframe tbody tr th {\n",
              "        vertical-align: top;\n",
              "    }\n",
              "\n",
              "    .dataframe thead th {\n",
              "        text-align: right;\n",
              "    }\n",
              "</style>\n",
              "<table border=\"1\" class=\"dataframe\">\n",
              "  <thead>\n",
              "    <tr style=\"text-align: right;\">\n",
              "      <th></th>\n",
              "      <th>F_Name</th>\n",
              "      <th>L_Name</th>\n",
              "      <th>S.No</th>\n",
              "    </tr>\n",
              "  </thead>\n",
              "  <tbody>\n",
              "    <tr>\n",
              "      <th>0</th>\n",
              "      <td>F_Name,</td>\n",
              "      <td>L_name</td>\n",
              "      <td>s.no</td>\n",
              "    </tr>\n",
              "    <tr>\n",
              "      <th>1</th>\n",
              "      <td>Aman,</td>\n",
              "      <td>Mashetty</td>\n",
              "      <td>33</td>\n",
              "    </tr>\n",
              "    <tr>\n",
              "      <th>2</th>\n",
              "      <td>Vinod,</td>\n",
              "      <td>Biradar</td>\n",
              "      <td>35</td>\n",
              "    </tr>\n",
              "  </tbody>\n",
              "</table>\n",
              "</div>\n",
              "      <button class=\"colab-df-convert\" onclick=\"convertToInteractive('df-bab861be-d410-47ea-9980-e09297027843')\"\n",
              "              title=\"Convert this dataframe to an interactive table.\"\n",
              "              style=\"display:none;\">\n",
              "        \n",
              "  <svg xmlns=\"http://www.w3.org/2000/svg\" height=\"24px\"viewBox=\"0 0 24 24\"\n",
              "       width=\"24px\">\n",
              "    <path d=\"M0 0h24v24H0V0z\" fill=\"none\"/>\n",
              "    <path d=\"M18.56 5.44l.94 2.06.94-2.06 2.06-.94-2.06-.94-.94-2.06-.94 2.06-2.06.94zm-11 1L8.5 8.5l.94-2.06 2.06-.94-2.06-.94L8.5 2.5l-.94 2.06-2.06.94zm10 10l.94 2.06.94-2.06 2.06-.94-2.06-.94-.94-2.06-.94 2.06-2.06.94z\"/><path d=\"M17.41 7.96l-1.37-1.37c-.4-.4-.92-.59-1.43-.59-.52 0-1.04.2-1.43.59L10.3 9.45l-7.72 7.72c-.78.78-.78 2.05 0 2.83L4 21.41c.39.39.9.59 1.41.59.51 0 1.02-.2 1.41-.59l7.78-7.78 2.81-2.81c.8-.78.8-2.07 0-2.86zM5.41 20L4 18.59l7.72-7.72 1.47 1.35L5.41 20z\"/>\n",
              "  </svg>\n",
              "      </button>\n",
              "      \n",
              "  <style>\n",
              "    .colab-df-container {\n",
              "      display:flex;\n",
              "      flex-wrap:wrap;\n",
              "      gap: 12px;\n",
              "    }\n",
              "\n",
              "    .colab-df-convert {\n",
              "      background-color: #E8F0FE;\n",
              "      border: none;\n",
              "      border-radius: 50%;\n",
              "      cursor: pointer;\n",
              "      display: none;\n",
              "      fill: #1967D2;\n",
              "      height: 32px;\n",
              "      padding: 0 0 0 0;\n",
              "      width: 32px;\n",
              "    }\n",
              "\n",
              "    .colab-df-convert:hover {\n",
              "      background-color: #E2EBFA;\n",
              "      box-shadow: 0px 1px 2px rgba(60, 64, 67, 0.3), 0px 1px 3px 1px rgba(60, 64, 67, 0.15);\n",
              "      fill: #174EA6;\n",
              "    }\n",
              "\n",
              "    [theme=dark] .colab-df-convert {\n",
              "      background-color: #3B4455;\n",
              "      fill: #D2E3FC;\n",
              "    }\n",
              "\n",
              "    [theme=dark] .colab-df-convert:hover {\n",
              "      background-color: #434B5C;\n",
              "      box-shadow: 0px 1px 3px 1px rgba(0, 0, 0, 0.15);\n",
              "      filter: drop-shadow(0px 1px 2px rgba(0, 0, 0, 0.3));\n",
              "      fill: #FFFFFF;\n",
              "    }\n",
              "  </style>\n",
              "\n",
              "      <script>\n",
              "        const buttonEl =\n",
              "          document.querySelector('#df-bab861be-d410-47ea-9980-e09297027843 button.colab-df-convert');\n",
              "        buttonEl.style.display =\n",
              "          google.colab.kernel.accessAllowed ? 'block' : 'none';\n",
              "\n",
              "        async function convertToInteractive(key) {\n",
              "          const element = document.querySelector('#df-bab861be-d410-47ea-9980-e09297027843');\n",
              "          const dataTable =\n",
              "            await google.colab.kernel.invokeFunction('convertToInteractive',\n",
              "                                                     [key], {});\n",
              "          if (!dataTable) return;\n",
              "\n",
              "          const docLinkHtml = 'Like what you see? Visit the ' +\n",
              "            '<a target=\"_blank\" href=https://colab.research.google.com/notebooks/data_table.ipynb>data table notebook</a>'\n",
              "            + ' to learn more about interactive tables.';\n",
              "          element.innerHTML = '';\n",
              "          dataTable['output_type'] = 'display_data';\n",
              "          await google.colab.output.renderOutput(dataTable, element);\n",
              "          const docLink = document.createElement('div');\n",
              "          docLink.innerHTML = docLinkHtml;\n",
              "          element.appendChild(docLink);\n",
              "        }\n",
              "      </script>\n",
              "    </div>\n",
              "  </div>\n",
              "  "
            ]
          },
          "metadata": {},
          "execution_count": 50
        }
      ]
    },
    {
      "cell_type": "code",
      "source": [
        "df.drop(index = 0,inplace = True)\n",
        "df"
      ],
      "metadata": {
        "colab": {
          "base_uri": "https://localhost:8080/",
          "height": 150
        },
        "id": "LgKJK-H6aO9c",
        "outputId": "f5f7fb9f-9b08-49c8-ec59-760e5e8ce299"
      },
      "execution_count": 51,
      "outputs": [
        {
          "output_type": "execute_result",
          "data": {
            "text/plain": [
              "   F_Name    L_Name S.No\n",
              "1   Aman,  Mashetty   33\n",
              "2  Vinod,   Biradar   35"
            ],
            "text/html": [
              "\n",
              "  <div id=\"df-0c59ae97-6d55-4089-92c5-de4893976fdd\">\n",
              "    <div class=\"colab-df-container\">\n",
              "      <div>\n",
              "<style scoped>\n",
              "    .dataframe tbody tr th:only-of-type {\n",
              "        vertical-align: middle;\n",
              "    }\n",
              "\n",
              "    .dataframe tbody tr th {\n",
              "        vertical-align: top;\n",
              "    }\n",
              "\n",
              "    .dataframe thead th {\n",
              "        text-align: right;\n",
              "    }\n",
              "</style>\n",
              "<table border=\"1\" class=\"dataframe\">\n",
              "  <thead>\n",
              "    <tr style=\"text-align: right;\">\n",
              "      <th></th>\n",
              "      <th>F_Name</th>\n",
              "      <th>L_Name</th>\n",
              "      <th>S.No</th>\n",
              "    </tr>\n",
              "  </thead>\n",
              "  <tbody>\n",
              "    <tr>\n",
              "      <th>1</th>\n",
              "      <td>Aman,</td>\n",
              "      <td>Mashetty</td>\n",
              "      <td>33</td>\n",
              "    </tr>\n",
              "    <tr>\n",
              "      <th>2</th>\n",
              "      <td>Vinod,</td>\n",
              "      <td>Biradar</td>\n",
              "      <td>35</td>\n",
              "    </tr>\n",
              "  </tbody>\n",
              "</table>\n",
              "</div>\n",
              "      <button class=\"colab-df-convert\" onclick=\"convertToInteractive('df-0c59ae97-6d55-4089-92c5-de4893976fdd')\"\n",
              "              title=\"Convert this dataframe to an interactive table.\"\n",
              "              style=\"display:none;\">\n",
              "        \n",
              "  <svg xmlns=\"http://www.w3.org/2000/svg\" height=\"24px\"viewBox=\"0 0 24 24\"\n",
              "       width=\"24px\">\n",
              "    <path d=\"M0 0h24v24H0V0z\" fill=\"none\"/>\n",
              "    <path d=\"M18.56 5.44l.94 2.06.94-2.06 2.06-.94-2.06-.94-.94-2.06-.94 2.06-2.06.94zm-11 1L8.5 8.5l.94-2.06 2.06-.94-2.06-.94L8.5 2.5l-.94 2.06-2.06.94zm10 10l.94 2.06.94-2.06 2.06-.94-2.06-.94-.94-2.06-.94 2.06-2.06.94z\"/><path d=\"M17.41 7.96l-1.37-1.37c-.4-.4-.92-.59-1.43-.59-.52 0-1.04.2-1.43.59L10.3 9.45l-7.72 7.72c-.78.78-.78 2.05 0 2.83L4 21.41c.39.39.9.59 1.41.59.51 0 1.02-.2 1.41-.59l7.78-7.78 2.81-2.81c.8-.78.8-2.07 0-2.86zM5.41 20L4 18.59l7.72-7.72 1.47 1.35L5.41 20z\"/>\n",
              "  </svg>\n",
              "      </button>\n",
              "      \n",
              "  <style>\n",
              "    .colab-df-container {\n",
              "      display:flex;\n",
              "      flex-wrap:wrap;\n",
              "      gap: 12px;\n",
              "    }\n",
              "\n",
              "    .colab-df-convert {\n",
              "      background-color: #E8F0FE;\n",
              "      border: none;\n",
              "      border-radius: 50%;\n",
              "      cursor: pointer;\n",
              "      display: none;\n",
              "      fill: #1967D2;\n",
              "      height: 32px;\n",
              "      padding: 0 0 0 0;\n",
              "      width: 32px;\n",
              "    }\n",
              "\n",
              "    .colab-df-convert:hover {\n",
              "      background-color: #E2EBFA;\n",
              "      box-shadow: 0px 1px 2px rgba(60, 64, 67, 0.3), 0px 1px 3px 1px rgba(60, 64, 67, 0.15);\n",
              "      fill: #174EA6;\n",
              "    }\n",
              "\n",
              "    [theme=dark] .colab-df-convert {\n",
              "      background-color: #3B4455;\n",
              "      fill: #D2E3FC;\n",
              "    }\n",
              "\n",
              "    [theme=dark] .colab-df-convert:hover {\n",
              "      background-color: #434B5C;\n",
              "      box-shadow: 0px 1px 3px 1px rgba(0, 0, 0, 0.15);\n",
              "      filter: drop-shadow(0px 1px 2px rgba(0, 0, 0, 0.3));\n",
              "      fill: #FFFFFF;\n",
              "    }\n",
              "  </style>\n",
              "\n",
              "      <script>\n",
              "        const buttonEl =\n",
              "          document.querySelector('#df-0c59ae97-6d55-4089-92c5-de4893976fdd button.colab-df-convert');\n",
              "        buttonEl.style.display =\n",
              "          google.colab.kernel.accessAllowed ? 'block' : 'none';\n",
              "\n",
              "        async function convertToInteractive(key) {\n",
              "          const element = document.querySelector('#df-0c59ae97-6d55-4089-92c5-de4893976fdd');\n",
              "          const dataTable =\n",
              "            await google.colab.kernel.invokeFunction('convertToInteractive',\n",
              "                                                     [key], {});\n",
              "          if (!dataTable) return;\n",
              "\n",
              "          const docLinkHtml = 'Like what you see? Visit the ' +\n",
              "            '<a target=\"_blank\" href=https://colab.research.google.com/notebooks/data_table.ipynb>data table notebook</a>'\n",
              "            + ' to learn more about interactive tables.';\n",
              "          element.innerHTML = '';\n",
              "          dataTable['output_type'] = 'display_data';\n",
              "          await google.colab.output.renderOutput(dataTable, element);\n",
              "          const docLink = document.createElement('div');\n",
              "          docLink.innerHTML = docLinkHtml;\n",
              "          element.appendChild(docLink);\n",
              "        }\n",
              "      </script>\n",
              "    </div>\n",
              "  </div>\n",
              "  "
            ]
          },
          "metadata": {},
          "execution_count": 51
        }
      ]
    },
    {
      "cell_type": "code",
      "source": [
        "df = pd.DataFrame(['+1-555-555-5555','+1 (123) 456 7899', 'Here is my number 1-555-555-6666',123456789],columns=['Numbers and Text'])\n",
        "df"
      ],
      "metadata": {
        "id": "K6Vw12-saOsx",
        "colab": {
          "base_uri": "https://localhost:8080/",
          "height": 175
        },
        "outputId": "5048d202-6bb2-428e-e0b9-fc702e847be0"
      },
      "execution_count": 52,
      "outputs": [
        {
          "output_type": "execute_result",
          "data": {
            "text/plain": [
              "                   Numbers and Text\n",
              "0                   +1-555-555-5555\n",
              "1                 +1 (123) 456 7899\n",
              "2  Here is my number 1-555-555-6666\n",
              "3                         123456789"
            ],
            "text/html": [
              "\n",
              "  <div id=\"df-e1f17abc-a388-4253-b644-4c4d11843d3a\">\n",
              "    <div class=\"colab-df-container\">\n",
              "      <div>\n",
              "<style scoped>\n",
              "    .dataframe tbody tr th:only-of-type {\n",
              "        vertical-align: middle;\n",
              "    }\n",
              "\n",
              "    .dataframe tbody tr th {\n",
              "        vertical-align: top;\n",
              "    }\n",
              "\n",
              "    .dataframe thead th {\n",
              "        text-align: right;\n",
              "    }\n",
              "</style>\n",
              "<table border=\"1\" class=\"dataframe\">\n",
              "  <thead>\n",
              "    <tr style=\"text-align: right;\">\n",
              "      <th></th>\n",
              "      <th>Numbers and Text</th>\n",
              "    </tr>\n",
              "  </thead>\n",
              "  <tbody>\n",
              "    <tr>\n",
              "      <th>0</th>\n",
              "      <td>+1-555-555-5555</td>\n",
              "    </tr>\n",
              "    <tr>\n",
              "      <th>1</th>\n",
              "      <td>+1 (123) 456 7899</td>\n",
              "    </tr>\n",
              "    <tr>\n",
              "      <th>2</th>\n",
              "      <td>Here is my number 1-555-555-6666</td>\n",
              "    </tr>\n",
              "    <tr>\n",
              "      <th>3</th>\n",
              "      <td>123456789</td>\n",
              "    </tr>\n",
              "  </tbody>\n",
              "</table>\n",
              "</div>\n",
              "      <button class=\"colab-df-convert\" onclick=\"convertToInteractive('df-e1f17abc-a388-4253-b644-4c4d11843d3a')\"\n",
              "              title=\"Convert this dataframe to an interactive table.\"\n",
              "              style=\"display:none;\">\n",
              "        \n",
              "  <svg xmlns=\"http://www.w3.org/2000/svg\" height=\"24px\"viewBox=\"0 0 24 24\"\n",
              "       width=\"24px\">\n",
              "    <path d=\"M0 0h24v24H0V0z\" fill=\"none\"/>\n",
              "    <path d=\"M18.56 5.44l.94 2.06.94-2.06 2.06-.94-2.06-.94-.94-2.06-.94 2.06-2.06.94zm-11 1L8.5 8.5l.94-2.06 2.06-.94-2.06-.94L8.5 2.5l-.94 2.06-2.06.94zm10 10l.94 2.06.94-2.06 2.06-.94-2.06-.94-.94-2.06-.94 2.06-2.06.94z\"/><path d=\"M17.41 7.96l-1.37-1.37c-.4-.4-.92-.59-1.43-.59-.52 0-1.04.2-1.43.59L10.3 9.45l-7.72 7.72c-.78.78-.78 2.05 0 2.83L4 21.41c.39.39.9.59 1.41.59.51 0 1.02-.2 1.41-.59l7.78-7.78 2.81-2.81c.8-.78.8-2.07 0-2.86zM5.41 20L4 18.59l7.72-7.72 1.47 1.35L5.41 20z\"/>\n",
              "  </svg>\n",
              "      </button>\n",
              "      \n",
              "  <style>\n",
              "    .colab-df-container {\n",
              "      display:flex;\n",
              "      flex-wrap:wrap;\n",
              "      gap: 12px;\n",
              "    }\n",
              "\n",
              "    .colab-df-convert {\n",
              "      background-color: #E8F0FE;\n",
              "      border: none;\n",
              "      border-radius: 50%;\n",
              "      cursor: pointer;\n",
              "      display: none;\n",
              "      fill: #1967D2;\n",
              "      height: 32px;\n",
              "      padding: 0 0 0 0;\n",
              "      width: 32px;\n",
              "    }\n",
              "\n",
              "    .colab-df-convert:hover {\n",
              "      background-color: #E2EBFA;\n",
              "      box-shadow: 0px 1px 2px rgba(60, 64, 67, 0.3), 0px 1px 3px 1px rgba(60, 64, 67, 0.15);\n",
              "      fill: #174EA6;\n",
              "    }\n",
              "\n",
              "    [theme=dark] .colab-df-convert {\n",
              "      background-color: #3B4455;\n",
              "      fill: #D2E3FC;\n",
              "    }\n",
              "\n",
              "    [theme=dark] .colab-df-convert:hover {\n",
              "      background-color: #434B5C;\n",
              "      box-shadow: 0px 1px 3px 1px rgba(0, 0, 0, 0.15);\n",
              "      filter: drop-shadow(0px 1px 2px rgba(0, 0, 0, 0.3));\n",
              "      fill: #FFFFFF;\n",
              "    }\n",
              "  </style>\n",
              "\n",
              "      <script>\n",
              "        const buttonEl =\n",
              "          document.querySelector('#df-e1f17abc-a388-4253-b644-4c4d11843d3a button.colab-df-convert');\n",
              "        buttonEl.style.display =\n",
              "          google.colab.kernel.accessAllowed ? 'block' : 'none';\n",
              "\n",
              "        async function convertToInteractive(key) {\n",
              "          const element = document.querySelector('#df-e1f17abc-a388-4253-b644-4c4d11843d3a');\n",
              "          const dataTable =\n",
              "            await google.colab.kernel.invokeFunction('convertToInteractive',\n",
              "                                                     [key], {});\n",
              "          if (!dataTable) return;\n",
              "\n",
              "          const docLinkHtml = 'Like what you see? Visit the ' +\n",
              "            '<a target=\"_blank\" href=https://colab.research.google.com/notebooks/data_table.ipynb>data table notebook</a>'\n",
              "            + ' to learn more about interactive tables.';\n",
              "          element.innerHTML = '';\n",
              "          dataTable['output_type'] = 'display_data';\n",
              "          await google.colab.output.renderOutput(dataTable, element);\n",
              "          const docLink = document.createElement('div');\n",
              "          docLink.innerHTML = docLinkHtml;\n",
              "          element.appendChild(docLink);\n",
              "        }\n",
              "      </script>\n",
              "    </div>\n",
              "  </div>\n",
              "  "
            ]
          },
          "metadata": {},
          "execution_count": 52
        }
      ]
    },
    {
      "cell_type": "code",
      "source": [
        "df['Num_Only'] = df['Numbers and Text'].astype('str').str.extractall('(\\d+)').unstack().fillna('').sum(axis=1).astype(int)\n",
        "df"
      ],
      "metadata": {
        "colab": {
          "base_uri": "https://localhost:8080/",
          "height": 175
        },
        "id": "-RVnfLLnjHJC",
        "outputId": "e2037f6b-b919-4325-9dbf-811e290e21c5"
      },
      "execution_count": 53,
      "outputs": [
        {
          "output_type": "execute_result",
          "data": {
            "text/plain": [
              "                   Numbers and Text     Num_Only\n",
              "0                   +1-555-555-5555  15555555555\n",
              "1                 +1 (123) 456 7899  11234567899\n",
              "2  Here is my number 1-555-555-6666  15555556666\n",
              "3                         123456789    123456789"
            ],
            "text/html": [
              "\n",
              "  <div id=\"df-30d33b0f-43e8-4b7f-91d7-0913cb064c3a\">\n",
              "    <div class=\"colab-df-container\">\n",
              "      <div>\n",
              "<style scoped>\n",
              "    .dataframe tbody tr th:only-of-type {\n",
              "        vertical-align: middle;\n",
              "    }\n",
              "\n",
              "    .dataframe tbody tr th {\n",
              "        vertical-align: top;\n",
              "    }\n",
              "\n",
              "    .dataframe thead th {\n",
              "        text-align: right;\n",
              "    }\n",
              "</style>\n",
              "<table border=\"1\" class=\"dataframe\">\n",
              "  <thead>\n",
              "    <tr style=\"text-align: right;\">\n",
              "      <th></th>\n",
              "      <th>Numbers and Text</th>\n",
              "      <th>Num_Only</th>\n",
              "    </tr>\n",
              "  </thead>\n",
              "  <tbody>\n",
              "    <tr>\n",
              "      <th>0</th>\n",
              "      <td>+1-555-555-5555</td>\n",
              "      <td>15555555555</td>\n",
              "    </tr>\n",
              "    <tr>\n",
              "      <th>1</th>\n",
              "      <td>+1 (123) 456 7899</td>\n",
              "      <td>11234567899</td>\n",
              "    </tr>\n",
              "    <tr>\n",
              "      <th>2</th>\n",
              "      <td>Here is my number 1-555-555-6666</td>\n",
              "      <td>15555556666</td>\n",
              "    </tr>\n",
              "    <tr>\n",
              "      <th>3</th>\n",
              "      <td>123456789</td>\n",
              "      <td>123456789</td>\n",
              "    </tr>\n",
              "  </tbody>\n",
              "</table>\n",
              "</div>\n",
              "      <button class=\"colab-df-convert\" onclick=\"convertToInteractive('df-30d33b0f-43e8-4b7f-91d7-0913cb064c3a')\"\n",
              "              title=\"Convert this dataframe to an interactive table.\"\n",
              "              style=\"display:none;\">\n",
              "        \n",
              "  <svg xmlns=\"http://www.w3.org/2000/svg\" height=\"24px\"viewBox=\"0 0 24 24\"\n",
              "       width=\"24px\">\n",
              "    <path d=\"M0 0h24v24H0V0z\" fill=\"none\"/>\n",
              "    <path d=\"M18.56 5.44l.94 2.06.94-2.06 2.06-.94-2.06-.94-.94-2.06-.94 2.06-2.06.94zm-11 1L8.5 8.5l.94-2.06 2.06-.94-2.06-.94L8.5 2.5l-.94 2.06-2.06.94zm10 10l.94 2.06.94-2.06 2.06-.94-2.06-.94-.94-2.06-.94 2.06-2.06.94z\"/><path d=\"M17.41 7.96l-1.37-1.37c-.4-.4-.92-.59-1.43-.59-.52 0-1.04.2-1.43.59L10.3 9.45l-7.72 7.72c-.78.78-.78 2.05 0 2.83L4 21.41c.39.39.9.59 1.41.59.51 0 1.02-.2 1.41-.59l7.78-7.78 2.81-2.81c.8-.78.8-2.07 0-2.86zM5.41 20L4 18.59l7.72-7.72 1.47 1.35L5.41 20z\"/>\n",
              "  </svg>\n",
              "      </button>\n",
              "      \n",
              "  <style>\n",
              "    .colab-df-container {\n",
              "      display:flex;\n",
              "      flex-wrap:wrap;\n",
              "      gap: 12px;\n",
              "    }\n",
              "\n",
              "    .colab-df-convert {\n",
              "      background-color: #E8F0FE;\n",
              "      border: none;\n",
              "      border-radius: 50%;\n",
              "      cursor: pointer;\n",
              "      display: none;\n",
              "      fill: #1967D2;\n",
              "      height: 32px;\n",
              "      padding: 0 0 0 0;\n",
              "      width: 32px;\n",
              "    }\n",
              "\n",
              "    .colab-df-convert:hover {\n",
              "      background-color: #E2EBFA;\n",
              "      box-shadow: 0px 1px 2px rgba(60, 64, 67, 0.3), 0px 1px 3px 1px rgba(60, 64, 67, 0.15);\n",
              "      fill: #174EA6;\n",
              "    }\n",
              "\n",
              "    [theme=dark] .colab-df-convert {\n",
              "      background-color: #3B4455;\n",
              "      fill: #D2E3FC;\n",
              "    }\n",
              "\n",
              "    [theme=dark] .colab-df-convert:hover {\n",
              "      background-color: #434B5C;\n",
              "      box-shadow: 0px 1px 3px 1px rgba(0, 0, 0, 0.15);\n",
              "      filter: drop-shadow(0px 1px 2px rgba(0, 0, 0, 0.3));\n",
              "      fill: #FFFFFF;\n",
              "    }\n",
              "  </style>\n",
              "\n",
              "      <script>\n",
              "        const buttonEl =\n",
              "          document.querySelector('#df-30d33b0f-43e8-4b7f-91d7-0913cb064c3a button.colab-df-convert');\n",
              "        buttonEl.style.display =\n",
              "          google.colab.kernel.accessAllowed ? 'block' : 'none';\n",
              "\n",
              "        async function convertToInteractive(key) {\n",
              "          const element = document.querySelector('#df-30d33b0f-43e8-4b7f-91d7-0913cb064c3a');\n",
              "          const dataTable =\n",
              "            await google.colab.kernel.invokeFunction('convertToInteractive',\n",
              "                                                     [key], {});\n",
              "          if (!dataTable) return;\n",
              "\n",
              "          const docLinkHtml = 'Like what you see? Visit the ' +\n",
              "            '<a target=\"_blank\" href=https://colab.research.google.com/notebooks/data_table.ipynb>data table notebook</a>'\n",
              "            + ' to learn more about interactive tables.';\n",
              "          element.innerHTML = '';\n",
              "          dataTable['output_type'] = 'display_data';\n",
              "          await google.colab.output.renderOutput(dataTable, element);\n",
              "          const docLink = document.createElement('div');\n",
              "          docLink.innerHTML = docLinkHtml;\n",
              "          element.appendChild(docLink);\n",
              "        }\n",
              "      </script>\n",
              "    </div>\n",
              "  </div>\n",
              "  "
            ]
          },
          "metadata": {},
          "execution_count": 53
        }
      ]
    },
    {
      "cell_type": "code",
      "source": [
        "%ls"
      ],
      "metadata": {
        "colab": {
          "base_uri": "https://localhost:8080/"
        },
        "id": "Vr3r4PPUkg2x",
        "outputId": "a50d98f9-0535-452e-e8e1-64faa7419224"
      },
      "execution_count": 59,
      "outputs": [
        {
          "output_type": "stream",
          "name": "stdout",
          "text": [
            "\u001b[0m\u001b[01;34msample_data\u001b[0m/\n"
          ]
        }
      ]
    },
    {
      "cell_type": "code",
      "source": [
        "pwd"
      ],
      "metadata": {
        "colab": {
          "base_uri": "https://localhost:8080/",
          "height": 35
        },
        "id": "_YXaYd4Skgyy",
        "outputId": "908d6511-e7d2-4a19-fe6c-f74f552fafc5"
      },
      "execution_count": 60,
      "outputs": [
        {
          "output_type": "execute_result",
          "data": {
            "text/plain": [
              "'/content'"
            ],
            "application/vnd.google.colaboratory.intrinsic+json": {
              "type": "string"
            }
          },
          "metadata": {},
          "execution_count": 60
        }
      ]
    },
    {
      "cell_type": "code",
      "source": [
        "%cd MashettyAman\n",
        "/\n",
        "My_Python_Codes\n"
      ],
      "metadata": {
        "colab": {
          "base_uri": "https://localhost:8080/",
          "height": 236
        },
        "id": "ckAfsVSLkgs2",
        "outputId": "87e7fb9a-386e-4cf0-e6fd-8adbd52cde57"
      },
      "execution_count": 61,
      "outputs": [
        {
          "output_type": "stream",
          "name": "stdout",
          "text": [
            "[Errno 2] No such file or directory: 'MashettyAman'\n",
            "/content\n"
          ]
        },
        {
          "output_type": "error",
          "ename": "NameError",
          "evalue": "ignored",
          "traceback": [
            "\u001b[0;31m---------------------------------------------------------------------------\u001b[0m",
            "\u001b[0;31mNameError\u001b[0m                                 Traceback (most recent call last)",
            "\u001b[0;32m<ipython-input-61-fa72a6501dab>\u001b[0m in \u001b[0;36m<module>\u001b[0;34m()\u001b[0m\n\u001b[1;32m      1\u001b[0m \u001b[0mget_ipython\u001b[0m\u001b[0;34m(\u001b[0m\u001b[0;34m)\u001b[0m\u001b[0;34m.\u001b[0m\u001b[0mmagic\u001b[0m\u001b[0;34m(\u001b[0m\u001b[0;34m'cd MashettyAman'\u001b[0m\u001b[0;34m)\u001b[0m\u001b[0;34m\u001b[0m\u001b[0;34m\u001b[0m\u001b[0m\n\u001b[1;32m      2\u001b[0m \u001b[0;34m(\u001b[0m\u001b[0;34m)\u001b[0m\u001b[0;34m\u001b[0m\u001b[0;34m\u001b[0m\u001b[0m\n\u001b[0;32m----> 3\u001b[0;31m \u001b[0mMy_Python_Codes\u001b[0m\u001b[0;34m\u001b[0m\u001b[0;34m\u001b[0m\u001b[0m\n\u001b[0m",
            "\u001b[0;31mNameError\u001b[0m: name 'My_Python_Codes' is not defined"
          ]
        }
      ]
    }
  ],
  "metadata": {
    "kernelspec": {
      "display_name": "Python 3",
      "language": "python",
      "name": "python3"
    },
    "language_info": {
      "codemirror_mode": {
        "name": "ipython",
        "version": 3
      },
      "file_extension": ".py",
      "mimetype": "text/x-python",
      "name": "python",
      "nbconvert_exporter": "python",
      "pygments_lexer": "ipython3",
      "version": "3.7.1"
    },
    "colab": {
      "name": "List Comprehension All in one.ipynb",
      "provenance": [],
      "include_colab_link": true
    }
  },
  "nbformat": 4,
  "nbformat_minor": 0
}